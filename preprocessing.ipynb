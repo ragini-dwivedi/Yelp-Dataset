{
 "cells": [
  {
   "cell_type": "code",
   "execution_count": 102,
   "metadata": {
    "id": "YRsEo8okGfxZ"
   },
   "outputs": [
    {
     "name": "stdout",
     "output_type": "stream",
     "text": [
      "Requirement already satisfied: python-rake in /Users/raginidwivedi/.pyenv/versions/3.7.6/lib/python3.7/site-packages (1.4.5)\n",
      "\u001b[33mWARNING: You are using pip version 19.2.3, however version 20.2.4 is available.\n",
      "You should consider upgrading via the 'pip install --upgrade pip' command.\u001b[0m\n",
      "Note: you may need to restart the kernel to use updated packages.\n"
     ]
    }
   ],
   "source": [
    "pip install python-rake"
   ]
  },
  {
   "cell_type": "code",
   "execution_count": 103,
   "metadata": {},
   "outputs": [],
   "source": [
    "import numpy as np\n",
    "import pandas as pd\n",
    "import pickle\n",
    "from IPython.display import Markdown, display\n",
    "import matplotlib.pyplot as plt\n",
    "from scipy import spatial\n",
    "from sklearn.model_selection import train_test_split\n",
    "import seaborn as sns\n",
    "import matplotlib.pyplot as plt\n",
    "import RAKE"
   ]
  },
  {
   "cell_type": "code",
   "execution_count": 106,
   "metadata": {},
   "outputs": [],
   "source": [
    "rake = RAKE.Rake(\"./RAKE/SmartStoplist.txt\")"
   ]
  },
  {
   "cell_type": "code",
   "execution_count": 2,
   "metadata": {
    "id": "GWL1nnCYNUNP"
   },
   "outputs": [],
   "source": [
    "def printmd(string):\n",
    "    display(Markdown(string))"
   ]
  },
  {
   "cell_type": "code",
   "execution_count": 3,
   "metadata": {
    "colab": {
     "base_uri": "https://localhost:8080/",
     "height": 392
    },
    "id": "z_AX9FkAINQ2",
    "outputId": "b735cccb-64d4-46cf-97e8-d3b883a7425c"
   },
   "outputs": [
    {
     "name": "stdout",
     "output_type": "stream",
     "text": [
      "(209393, 14)\n"
     ]
    },
    {
     "data": {
      "text/html": [
       "<div>\n",
       "<style scoped>\n",
       "    .dataframe tbody tr th:only-of-type {\n",
       "        vertical-align: middle;\n",
       "    }\n",
       "\n",
       "    .dataframe tbody tr th {\n",
       "        vertical-align: top;\n",
       "    }\n",
       "\n",
       "    .dataframe thead th {\n",
       "        text-align: right;\n",
       "    }\n",
       "</style>\n",
       "<table border=\"1\" class=\"dataframe\">\n",
       "  <thead>\n",
       "    <tr style=\"text-align: right;\">\n",
       "      <th></th>\n",
       "      <th>business_id</th>\n",
       "      <th>name</th>\n",
       "      <th>city</th>\n",
       "      <th>state</th>\n",
       "      <th>postal_code</th>\n",
       "      <th>stars</th>\n",
       "      <th>review_count</th>\n",
       "      <th>attributes</th>\n",
       "      <th>categories</th>\n",
       "      <th>hours</th>\n",
       "    </tr>\n",
       "  </thead>\n",
       "  <tbody>\n",
       "    <tr>\n",
       "      <th>0</th>\n",
       "      <td>f9NumwFMBDn751xgFiRbNA</td>\n",
       "      <td>The Range At Lake Norman</td>\n",
       "      <td>Cornelius</td>\n",
       "      <td>NC</td>\n",
       "      <td>28031</td>\n",
       "      <td>3.5</td>\n",
       "      <td>36</td>\n",
       "      <td>{'BusinessAcceptsCreditCards': 'True', 'BikePa...</td>\n",
       "      <td>Active Life, Gun/Rifle Ranges, Guns &amp; Ammo, Sh...</td>\n",
       "      <td>{'Monday': '10:0-18:0', 'Tuesday': '11:0-20:0'...</td>\n",
       "    </tr>\n",
       "    <tr>\n",
       "      <th>1</th>\n",
       "      <td>Yzvjg0SayhoZgCljUJRF9Q</td>\n",
       "      <td>Carlos Santo, NMD</td>\n",
       "      <td>Scottsdale</td>\n",
       "      <td>AZ</td>\n",
       "      <td>85258</td>\n",
       "      <td>5.0</td>\n",
       "      <td>4</td>\n",
       "      <td>{'GoodForKids': 'True', 'ByAppointmentOnly': '...</td>\n",
       "      <td>Health &amp; Medical, Fitness &amp; Instruction, Yoga,...</td>\n",
       "      <td>None</td>\n",
       "    </tr>\n",
       "    <tr>\n",
       "      <th>2</th>\n",
       "      <td>XNoUzKckATkOD1hP6vghZg</td>\n",
       "      <td>Felinus</td>\n",
       "      <td>Montreal</td>\n",
       "      <td>QC</td>\n",
       "      <td>H4C 1P4</td>\n",
       "      <td>5.0</td>\n",
       "      <td>5</td>\n",
       "      <td>None</td>\n",
       "      <td>Pets, Pet Services, Pet Groomers</td>\n",
       "      <td>None</td>\n",
       "    </tr>\n",
       "    <tr>\n",
       "      <th>4</th>\n",
       "      <td>51M2Kk903DFYI6gnB5I6SQ</td>\n",
       "      <td>USE MY GUY SERVICES LLC</td>\n",
       "      <td>Mesa</td>\n",
       "      <td>AZ</td>\n",
       "      <td>85205</td>\n",
       "      <td>4.5</td>\n",
       "      <td>26</td>\n",
       "      <td>{'BusinessAcceptsCreditCards': 'True', 'ByAppo...</td>\n",
       "      <td>Home Services, Plumbing, Electricians, Handyma...</td>\n",
       "      <td>{'Monday': '0:0-0:0', 'Tuesday': '9:0-16:0', '...</td>\n",
       "    </tr>\n",
       "    <tr>\n",
       "      <th>5</th>\n",
       "      <td>cKyLV5oWZJ2NudWgqs8VZw</td>\n",
       "      <td>Oasis Auto Center - Gilbert</td>\n",
       "      <td>Gilbert</td>\n",
       "      <td>AZ</td>\n",
       "      <td>85233</td>\n",
       "      <td>4.5</td>\n",
       "      <td>38</td>\n",
       "      <td>{'BusinessAcceptsCreditCards': 'True'}</td>\n",
       "      <td>Auto Repair, Automotive, Oil Change Stations, ...</td>\n",
       "      <td>{'Monday': '7:0-18:0', 'Tuesday': '7:0-18:0', ...</td>\n",
       "    </tr>\n",
       "  </tbody>\n",
       "</table>\n",
       "</div>"
      ],
      "text/plain": [
       "              business_id                         name        city state  \\\n",
       "0  f9NumwFMBDn751xgFiRbNA     The Range At Lake Norman   Cornelius    NC   \n",
       "1  Yzvjg0SayhoZgCljUJRF9Q            Carlos Santo, NMD  Scottsdale    AZ   \n",
       "2  XNoUzKckATkOD1hP6vghZg                      Felinus    Montreal    QC   \n",
       "4  51M2Kk903DFYI6gnB5I6SQ      USE MY GUY SERVICES LLC        Mesa    AZ   \n",
       "5  cKyLV5oWZJ2NudWgqs8VZw  Oasis Auto Center - Gilbert     Gilbert    AZ   \n",
       "\n",
       "  postal_code  stars  review_count  \\\n",
       "0       28031    3.5            36   \n",
       "1       85258    5.0             4   \n",
       "2     H4C 1P4    5.0             5   \n",
       "4       85205    4.5            26   \n",
       "5       85233    4.5            38   \n",
       "\n",
       "                                          attributes  \\\n",
       "0  {'BusinessAcceptsCreditCards': 'True', 'BikePa...   \n",
       "1  {'GoodForKids': 'True', 'ByAppointmentOnly': '...   \n",
       "2                                               None   \n",
       "4  {'BusinessAcceptsCreditCards': 'True', 'ByAppo...   \n",
       "5             {'BusinessAcceptsCreditCards': 'True'}   \n",
       "\n",
       "                                          categories  \\\n",
       "0  Active Life, Gun/Rifle Ranges, Guns & Ammo, Sh...   \n",
       "1  Health & Medical, Fitness & Instruction, Yoga,...   \n",
       "2                   Pets, Pet Services, Pet Groomers   \n",
       "4  Home Services, Plumbing, Electricians, Handyma...   \n",
       "5  Auto Repair, Automotive, Oil Change Stations, ...   \n",
       "\n",
       "                                               hours  \n",
       "0  {'Monday': '10:0-18:0', 'Tuesday': '11:0-20:0'...  \n",
       "1                                               None  \n",
       "2                                               None  \n",
       "4  {'Monday': '0:0-0:0', 'Tuesday': '9:0-16:0', '...  \n",
       "5  {'Monday': '7:0-18:0', 'Tuesday': '7:0-18:0', ...  "
      ]
     },
     "execution_count": 3,
     "metadata": {},
     "output_type": "execute_result"
    }
   ],
   "source": [
    "business = pd.read_json('./Data/yelp_academic_dataset_business.json', lines =  True)\n",
    "print(business.shape)\n",
    "\n",
    "\n",
    "# Only open businesses & with categories\n",
    "business = business[business.is_open == 1]\n",
    "business.drop(columns = ['address','is_open', 'latitude', 'longitude'], inplace = True)\n",
    "#business = business[business.categories.apply(len) != 0]\n",
    "business.head()"
   ]
  },
  {
   "cell_type": "code",
   "execution_count": 4,
   "metadata": {
    "id": "8KNGJyeWOcG0"
   },
   "outputs": [
    {
     "name": "stdout",
     "output_type": "stream",
     "text": [
      "Size :  (168903, 10)\n",
      "<class 'pandas.core.frame.DataFrame'>\n",
      "Int64Index: 168903 entries, 0 to 209392\n",
      "Data columns (total 10 columns):\n",
      "business_id     168903 non-null object\n",
      "name            168903 non-null object\n",
      "city            168903 non-null object\n",
      "state           168903 non-null object\n",
      "postal_code     168903 non-null object\n",
      "stars           168903 non-null float64\n",
      "review_count    168903 non-null int64\n",
      "attributes      143470 non-null object\n",
      "categories      168401 non-null object\n",
      "hours           137502 non-null object\n",
      "dtypes: float64(1), int64(1), object(8)\n",
      "memory usage: 14.2+ MB\n"
     ]
    },
    {
     "data": {
      "text/plain": [
       "None"
      ]
     },
     "metadata": {},
     "output_type": "display_data"
    }
   ],
   "source": [
    "print('Size : ',business.shape)\n",
    "display(business.info())"
   ]
  },
  {
   "cell_type": "markdown",
   "metadata": {
    "id": "z49QzLz5OjfI"
   },
   "source": [
    "##Review Data"
   ]
  },
  {
   "cell_type": "code",
   "execution_count": 5,
   "metadata": {
    "id": "VMrGkTVQOhFB"
   },
   "outputs": [],
   "source": [
    "# Takes a lot of time to read\n",
    "review = pd.DataFrame()\n",
    "\n",
    "df = pd.read_json('./Data/yelp_academic_dataset_review.json',lines = True, chunksize= 1e5)"
   ]
  },
  {
   "cell_type": "code",
   "execution_count": 6,
   "metadata": {},
   "outputs": [],
   "source": [
    "try:\n",
    "   for df_chunk in df:\n",
    "       review = pd.concat([review, df_chunk])\n",
    "except ValueError:\n",
    "       print ('\\nSome messages in the file cannot be parsed')"
   ]
  },
  {
   "cell_type": "code",
   "execution_count": 7,
   "metadata": {},
   "outputs": [
    {
     "name": "stdout",
     "output_type": "stream",
     "text": [
      "(8021122, 7)\n"
     ]
    },
    {
     "data": {
      "text/html": [
       "<div>\n",
       "<style scoped>\n",
       "    .dataframe tbody tr th:only-of-type {\n",
       "        vertical-align: middle;\n",
       "    }\n",
       "\n",
       "    .dataframe tbody tr th {\n",
       "        vertical-align: top;\n",
       "    }\n",
       "\n",
       "    .dataframe thead th {\n",
       "        text-align: right;\n",
       "    }\n",
       "</style>\n",
       "<table border=\"1\" class=\"dataframe\">\n",
       "  <thead>\n",
       "    <tr style=\"text-align: right;\">\n",
       "      <th></th>\n",
       "      <th>review_id</th>\n",
       "      <th>user_id</th>\n",
       "      <th>business_id</th>\n",
       "      <th>stars</th>\n",
       "      <th>useful</th>\n",
       "      <th>text</th>\n",
       "      <th>date</th>\n",
       "    </tr>\n",
       "  </thead>\n",
       "  <tbody>\n",
       "    <tr>\n",
       "      <th>0</th>\n",
       "      <td>xQY8N_XvtGbearJ5X4QryQ</td>\n",
       "      <td>OwjRMXRC0KyPrIlcjaXeFQ</td>\n",
       "      <td>-MhfebM0QIsKt87iDN-FNw</td>\n",
       "      <td>2</td>\n",
       "      <td>5</td>\n",
       "      <td>As someone who has worked with many museums, I...</td>\n",
       "      <td>2015-04-15 05:21:16</td>\n",
       "    </tr>\n",
       "    <tr>\n",
       "      <th>1</th>\n",
       "      <td>UmFMZ8PyXZTY2QcwzsfQYA</td>\n",
       "      <td>nIJD_7ZXHq-FX8byPMOkMQ</td>\n",
       "      <td>lbrU8StCq3yDfr-QMnGrmQ</td>\n",
       "      <td>1</td>\n",
       "      <td>1</td>\n",
       "      <td>I am actually horrified this place is still in...</td>\n",
       "      <td>2013-12-07 03:16:52</td>\n",
       "    </tr>\n",
       "    <tr>\n",
       "      <th>2</th>\n",
       "      <td>LG2ZaYiOgpr2DK_90pYjNw</td>\n",
       "      <td>V34qejxNsCbcgD8C0HVk-Q</td>\n",
       "      <td>HQl28KMwrEKHqhFrrDqVNQ</td>\n",
       "      <td>5</td>\n",
       "      <td>1</td>\n",
       "      <td>I love Deagan's. I do. I really do. The atmosp...</td>\n",
       "      <td>2015-12-05 03:18:11</td>\n",
       "    </tr>\n",
       "    <tr>\n",
       "      <th>3</th>\n",
       "      <td>i6g_oA9Yf9Y31qt0wibXpw</td>\n",
       "      <td>ofKDkJKXSKZXu5xJNGiiBQ</td>\n",
       "      <td>5JxlZaqCnk1MnbgRirs40Q</td>\n",
       "      <td>1</td>\n",
       "      <td>0</td>\n",
       "      <td>Dismal, lukewarm, defrosted-tasting \"TexMex\" g...</td>\n",
       "      <td>2011-05-27 05:30:52</td>\n",
       "    </tr>\n",
       "    <tr>\n",
       "      <th>4</th>\n",
       "      <td>6TdNDKywdbjoTkizeMce8A</td>\n",
       "      <td>UgMW8bLE0QMJDCkQ1Ax5Mg</td>\n",
       "      <td>IS4cv902ykd8wj1TR0N3-A</td>\n",
       "      <td>4</td>\n",
       "      <td>0</td>\n",
       "      <td>Oh happy day, finally have a Canes near my cas...</td>\n",
       "      <td>2017-01-14 21:56:57</td>\n",
       "    </tr>\n",
       "  </tbody>\n",
       "</table>\n",
       "</div>"
      ],
      "text/plain": [
       "                review_id                 user_id             business_id  \\\n",
       "0  xQY8N_XvtGbearJ5X4QryQ  OwjRMXRC0KyPrIlcjaXeFQ  -MhfebM0QIsKt87iDN-FNw   \n",
       "1  UmFMZ8PyXZTY2QcwzsfQYA  nIJD_7ZXHq-FX8byPMOkMQ  lbrU8StCq3yDfr-QMnGrmQ   \n",
       "2  LG2ZaYiOgpr2DK_90pYjNw  V34qejxNsCbcgD8C0HVk-Q  HQl28KMwrEKHqhFrrDqVNQ   \n",
       "3  i6g_oA9Yf9Y31qt0wibXpw  ofKDkJKXSKZXu5xJNGiiBQ  5JxlZaqCnk1MnbgRirs40Q   \n",
       "4  6TdNDKywdbjoTkizeMce8A  UgMW8bLE0QMJDCkQ1Ax5Mg  IS4cv902ykd8wj1TR0N3-A   \n",
       "\n",
       "   stars  useful                                               text  \\\n",
       "0      2       5  As someone who has worked with many museums, I...   \n",
       "1      1       1  I am actually horrified this place is still in...   \n",
       "2      5       1  I love Deagan's. I do. I really do. The atmosp...   \n",
       "3      1       0  Dismal, lukewarm, defrosted-tasting \"TexMex\" g...   \n",
       "4      4       0  Oh happy day, finally have a Canes near my cas...   \n",
       "\n",
       "                 date  \n",
       "0 2015-04-15 05:21:16  \n",
       "1 2013-12-07 03:16:52  \n",
       "2 2015-12-05 03:18:11  \n",
       "3 2011-05-27 05:30:52  \n",
       "4 2017-01-14 21:56:57  "
      ]
     },
     "execution_count": 7,
     "metadata": {},
     "output_type": "execute_result"
    }
   ],
   "source": [
    "review.drop(columns = ['cool','funny'], inplace = True)\n",
    "\n",
    "print(review.shape)\n",
    "\n",
    "review.head()"
   ]
  },
  {
   "cell_type": "code",
   "execution_count": 27,
   "metadata": {},
   "outputs": [],
   "source": [
    "review['review_length'] = review.text.apply(len)"
   ]
  },
  {
   "cell_type": "code",
   "execution_count": 28,
   "metadata": {},
   "outputs": [
    {
     "data": {
      "text/html": [
       "<div>\n",
       "<style scoped>\n",
       "    .dataframe tbody tr th:only-of-type {\n",
       "        vertical-align: middle;\n",
       "    }\n",
       "\n",
       "    .dataframe tbody tr th {\n",
       "        vertical-align: top;\n",
       "    }\n",
       "\n",
       "    .dataframe thead th {\n",
       "        text-align: right;\n",
       "    }\n",
       "</style>\n",
       "<table border=\"1\" class=\"dataframe\">\n",
       "  <thead>\n",
       "    <tr style=\"text-align: right;\">\n",
       "      <th></th>\n",
       "      <th>review_id</th>\n",
       "      <th>user_id</th>\n",
       "      <th>business_id</th>\n",
       "      <th>stars</th>\n",
       "      <th>useful</th>\n",
       "      <th>text</th>\n",
       "      <th>date</th>\n",
       "      <th>review_length</th>\n",
       "    </tr>\n",
       "  </thead>\n",
       "  <tbody>\n",
       "    <tr>\n",
       "      <th>0</th>\n",
       "      <td>xQY8N_XvtGbearJ5X4QryQ</td>\n",
       "      <td>OwjRMXRC0KyPrIlcjaXeFQ</td>\n",
       "      <td>-MhfebM0QIsKt87iDN-FNw</td>\n",
       "      <td>2</td>\n",
       "      <td>5</td>\n",
       "      <td>As someone who has worked with many museums, I...</td>\n",
       "      <td>2015-04-15 05:21:16</td>\n",
       "      <td>1373</td>\n",
       "    </tr>\n",
       "    <tr>\n",
       "      <th>1</th>\n",
       "      <td>UmFMZ8PyXZTY2QcwzsfQYA</td>\n",
       "      <td>nIJD_7ZXHq-FX8byPMOkMQ</td>\n",
       "      <td>lbrU8StCq3yDfr-QMnGrmQ</td>\n",
       "      <td>1</td>\n",
       "      <td>1</td>\n",
       "      <td>I am actually horrified this place is still in...</td>\n",
       "      <td>2013-12-07 03:16:52</td>\n",
       "      <td>1407</td>\n",
       "    </tr>\n",
       "    <tr>\n",
       "      <th>2</th>\n",
       "      <td>LG2ZaYiOgpr2DK_90pYjNw</td>\n",
       "      <td>V34qejxNsCbcgD8C0HVk-Q</td>\n",
       "      <td>HQl28KMwrEKHqhFrrDqVNQ</td>\n",
       "      <td>5</td>\n",
       "      <td>1</td>\n",
       "      <td>I love Deagan's. I do. I really do. The atmosp...</td>\n",
       "      <td>2015-12-05 03:18:11</td>\n",
       "      <td>431</td>\n",
       "    </tr>\n",
       "    <tr>\n",
       "      <th>3</th>\n",
       "      <td>i6g_oA9Yf9Y31qt0wibXpw</td>\n",
       "      <td>ofKDkJKXSKZXu5xJNGiiBQ</td>\n",
       "      <td>5JxlZaqCnk1MnbgRirs40Q</td>\n",
       "      <td>1</td>\n",
       "      <td>0</td>\n",
       "      <td>Dismal, lukewarm, defrosted-tasting \"TexMex\" g...</td>\n",
       "      <td>2011-05-27 05:30:52</td>\n",
       "      <td>401</td>\n",
       "    </tr>\n",
       "    <tr>\n",
       "      <th>4</th>\n",
       "      <td>6TdNDKywdbjoTkizeMce8A</td>\n",
       "      <td>UgMW8bLE0QMJDCkQ1Ax5Mg</td>\n",
       "      <td>IS4cv902ykd8wj1TR0N3-A</td>\n",
       "      <td>4</td>\n",
       "      <td>0</td>\n",
       "      <td>Oh happy day, finally have a Canes near my cas...</td>\n",
       "      <td>2017-01-14 21:56:57</td>\n",
       "      <td>841</td>\n",
       "    </tr>\n",
       "    <tr>\n",
       "      <th>...</th>\n",
       "      <td>...</td>\n",
       "      <td>...</td>\n",
       "      <td>...</td>\n",
       "      <td>...</td>\n",
       "      <td>...</td>\n",
       "      <td>...</td>\n",
       "      <td>...</td>\n",
       "      <td>...</td>\n",
       "    </tr>\n",
       "    <tr>\n",
       "      <th>8021117</th>\n",
       "      <td>LAzw2u1ucY722ryLEXHdgg</td>\n",
       "      <td>6DMFD3BRp-MVzDQelRx5UQ</td>\n",
       "      <td>XW2kaXdahICaJ27A0dhGHg</td>\n",
       "      <td>1</td>\n",
       "      <td>1</td>\n",
       "      <td>Fricken unbelievable, I ordered 2 space heater...</td>\n",
       "      <td>2019-12-11 01:07:06</td>\n",
       "      <td>770</td>\n",
       "    </tr>\n",
       "    <tr>\n",
       "      <th>8021118</th>\n",
       "      <td>gMDU14Fa_DVIcPvsKtubJA</td>\n",
       "      <td>_g6P8H3-qfbz1FxbffS68g</td>\n",
       "      <td>IsoLzudHC50oJLiEWpwV-w</td>\n",
       "      <td>3</td>\n",
       "      <td>1</td>\n",
       "      <td>Solid American food with a southern comfort fl...</td>\n",
       "      <td>2019-12-10 04:15:00</td>\n",
       "      <td>1444</td>\n",
       "    </tr>\n",
       "    <tr>\n",
       "      <th>8021119</th>\n",
       "      <td>EcY_p50zPIQ2R6rf6-5CjA</td>\n",
       "      <td>Scmyz7MK4TbXXYcaLZxIxQ</td>\n",
       "      <td>kDCyqlYcstqnoqnfBRS5Og</td>\n",
       "      <td>5</td>\n",
       "      <td>15</td>\n",
       "      <td>I'm honestly not sure how I have never been to...</td>\n",
       "      <td>2019-06-06 15:01:53</td>\n",
       "      <td>1225</td>\n",
       "    </tr>\n",
       "    <tr>\n",
       "      <th>8021120</th>\n",
       "      <td>-z_MM0pAf9RtZbyPlphTlA</td>\n",
       "      <td>lBuAACBEThaQHQGMzAlKpg</td>\n",
       "      <td>VKVDDHKtsdrnigeIf9S8RA</td>\n",
       "      <td>3</td>\n",
       "      <td>2</td>\n",
       "      <td>Food was decent but I will say the service too...</td>\n",
       "      <td>2018-07-05 18:45:21</td>\n",
       "      <td>327</td>\n",
       "    </tr>\n",
       "    <tr>\n",
       "      <th>8021121</th>\n",
       "      <td>nK0JGgr8aO4mcFPU4pDOEA</td>\n",
       "      <td>fiA6ztHPONUkmX6yKIXyHg</td>\n",
       "      <td>2SbyRgHWuWNlq18eHAx95Q</td>\n",
       "      <td>5</td>\n",
       "      <td>2</td>\n",
       "      <td>Oh yeah! Not only that the service was good, t...</td>\n",
       "      <td>2019-12-07 00:29:55</td>\n",
       "      <td>535</td>\n",
       "    </tr>\n",
       "  </tbody>\n",
       "</table>\n",
       "<p>8021122 rows × 8 columns</p>\n",
       "</div>"
      ],
      "text/plain": [
       "                      review_id                 user_id  \\\n",
       "0        xQY8N_XvtGbearJ5X4QryQ  OwjRMXRC0KyPrIlcjaXeFQ   \n",
       "1        UmFMZ8PyXZTY2QcwzsfQYA  nIJD_7ZXHq-FX8byPMOkMQ   \n",
       "2        LG2ZaYiOgpr2DK_90pYjNw  V34qejxNsCbcgD8C0HVk-Q   \n",
       "3        i6g_oA9Yf9Y31qt0wibXpw  ofKDkJKXSKZXu5xJNGiiBQ   \n",
       "4        6TdNDKywdbjoTkizeMce8A  UgMW8bLE0QMJDCkQ1Ax5Mg   \n",
       "...                         ...                     ...   \n",
       "8021117  LAzw2u1ucY722ryLEXHdgg  6DMFD3BRp-MVzDQelRx5UQ   \n",
       "8021118  gMDU14Fa_DVIcPvsKtubJA  _g6P8H3-qfbz1FxbffS68g   \n",
       "8021119  EcY_p50zPIQ2R6rf6-5CjA  Scmyz7MK4TbXXYcaLZxIxQ   \n",
       "8021120  -z_MM0pAf9RtZbyPlphTlA  lBuAACBEThaQHQGMzAlKpg   \n",
       "8021121  nK0JGgr8aO4mcFPU4pDOEA  fiA6ztHPONUkmX6yKIXyHg   \n",
       "\n",
       "                    business_id  stars  useful  \\\n",
       "0        -MhfebM0QIsKt87iDN-FNw      2       5   \n",
       "1        lbrU8StCq3yDfr-QMnGrmQ      1       1   \n",
       "2        HQl28KMwrEKHqhFrrDqVNQ      5       1   \n",
       "3        5JxlZaqCnk1MnbgRirs40Q      1       0   \n",
       "4        IS4cv902ykd8wj1TR0N3-A      4       0   \n",
       "...                         ...    ...     ...   \n",
       "8021117  XW2kaXdahICaJ27A0dhGHg      1       1   \n",
       "8021118  IsoLzudHC50oJLiEWpwV-w      3       1   \n",
       "8021119  kDCyqlYcstqnoqnfBRS5Og      5      15   \n",
       "8021120  VKVDDHKtsdrnigeIf9S8RA      3       2   \n",
       "8021121  2SbyRgHWuWNlq18eHAx95Q      5       2   \n",
       "\n",
       "                                                      text  \\\n",
       "0        As someone who has worked with many museums, I...   \n",
       "1        I am actually horrified this place is still in...   \n",
       "2        I love Deagan's. I do. I really do. The atmosp...   \n",
       "3        Dismal, lukewarm, defrosted-tasting \"TexMex\" g...   \n",
       "4        Oh happy day, finally have a Canes near my cas...   \n",
       "...                                                    ...   \n",
       "8021117  Fricken unbelievable, I ordered 2 space heater...   \n",
       "8021118  Solid American food with a southern comfort fl...   \n",
       "8021119  I'm honestly not sure how I have never been to...   \n",
       "8021120  Food was decent but I will say the service too...   \n",
       "8021121  Oh yeah! Not only that the service was good, t...   \n",
       "\n",
       "                       date  review_length  \n",
       "0       2015-04-15 05:21:16           1373  \n",
       "1       2013-12-07 03:16:52           1407  \n",
       "2       2015-12-05 03:18:11            431  \n",
       "3       2011-05-27 05:30:52            401  \n",
       "4       2017-01-14 21:56:57            841  \n",
       "...                     ...            ...  \n",
       "8021117 2019-12-11 01:07:06            770  \n",
       "8021118 2019-12-10 04:15:00           1444  \n",
       "8021119 2019-06-06 15:01:53           1225  \n",
       "8021120 2018-07-05 18:45:21            327  \n",
       "8021121 2019-12-07 00:29:55            535  \n",
       "\n",
       "[8021122 rows x 8 columns]"
      ]
     },
     "execution_count": 28,
     "metadata": {},
     "output_type": "execute_result"
    }
   ],
   "source": [
    "review"
   ]
  },
  {
   "cell_type": "code",
   "execution_count": 9,
   "metadata": {
    "id": "4MzTUqZPOpVh"
   },
   "outputs": [
    {
     "data": {
      "text/html": [
       "<div>\n",
       "<style scoped>\n",
       "    .dataframe tbody tr th:only-of-type {\n",
       "        vertical-align: middle;\n",
       "    }\n",
       "\n",
       "    .dataframe tbody tr th {\n",
       "        vertical-align: top;\n",
       "    }\n",
       "\n",
       "    .dataframe thead th {\n",
       "        text-align: right;\n",
       "    }\n",
       "</style>\n",
       "<table border=\"1\" class=\"dataframe\">\n",
       "  <thead>\n",
       "    <tr style=\"text-align: right;\">\n",
       "      <th></th>\n",
       "      <th>stars</th>\n",
       "      <th>useful</th>\n",
       "    </tr>\n",
       "  </thead>\n",
       "  <tbody>\n",
       "    <tr>\n",
       "      <th>count</th>\n",
       "      <td>8.021122e+06</td>\n",
       "      <td>8.021122e+06</td>\n",
       "    </tr>\n",
       "    <tr>\n",
       "      <th>mean</th>\n",
       "      <td>3.703575e+00</td>\n",
       "      <td>1.322882e+00</td>\n",
       "    </tr>\n",
       "    <tr>\n",
       "      <th>std</th>\n",
       "      <td>1.490486e+00</td>\n",
       "      <td>3.550831e+00</td>\n",
       "    </tr>\n",
       "    <tr>\n",
       "      <th>min</th>\n",
       "      <td>1.000000e+00</td>\n",
       "      <td>-1.000000e+00</td>\n",
       "    </tr>\n",
       "    <tr>\n",
       "      <th>25%</th>\n",
       "      <td>3.000000e+00</td>\n",
       "      <td>0.000000e+00</td>\n",
       "    </tr>\n",
       "    <tr>\n",
       "      <th>50%</th>\n",
       "      <td>4.000000e+00</td>\n",
       "      <td>0.000000e+00</td>\n",
       "    </tr>\n",
       "    <tr>\n",
       "      <th>75%</th>\n",
       "      <td>5.000000e+00</td>\n",
       "      <td>1.000000e+00</td>\n",
       "    </tr>\n",
       "    <tr>\n",
       "      <th>max</th>\n",
       "      <td>5.000000e+00</td>\n",
       "      <td>1.122000e+03</td>\n",
       "    </tr>\n",
       "  </tbody>\n",
       "</table>\n",
       "</div>"
      ],
      "text/plain": [
       "              stars        useful\n",
       "count  8.021122e+06  8.021122e+06\n",
       "mean   3.703575e+00  1.322882e+00\n",
       "std    1.490486e+00  3.550831e+00\n",
       "min    1.000000e+00 -1.000000e+00\n",
       "25%    3.000000e+00  0.000000e+00\n",
       "50%    4.000000e+00  0.000000e+00\n",
       "75%    5.000000e+00  1.000000e+00\n",
       "max    5.000000e+00  1.122000e+03"
      ]
     },
     "execution_count": 9,
     "metadata": {},
     "output_type": "execute_result"
    }
   ],
   "source": [
    "review.describe()"
   ]
  },
  {
   "cell_type": "code",
   "execution_count": 10,
   "metadata": {
    "id": "ZzjvC--TOrMK"
   },
   "outputs": [
    {
     "name": "stdout",
     "output_type": "stream",
     "text": [
      "<class 'pandas.core.frame.DataFrame'>\n",
      "RangeIndex: 8021122 entries, 0 to 8021121\n",
      "Data columns (total 7 columns):\n",
      "review_id      object\n",
      "user_id        object\n",
      "business_id    object\n",
      "stars          int64\n",
      "useful         int64\n",
      "text           object\n",
      "date           datetime64[ns]\n",
      "dtypes: datetime64[ns](1), int64(2), object(4)\n",
      "memory usage: 428.4+ MB\n"
     ]
    }
   ],
   "source": [
    "review.info()"
   ]
  },
  {
   "cell_type": "code",
   "execution_count": 11,
   "metadata": {
    "id": "pRxpHOY1Osu8"
   },
   "outputs": [
    {
     "name": "stdout",
     "output_type": "stream",
     "text": [
      "(175187, 2)\n"
     ]
    },
    {
     "data": {
      "text/html": [
       "<div>\n",
       "<style scoped>\n",
       "    .dataframe tbody tr th:only-of-type {\n",
       "        vertical-align: middle;\n",
       "    }\n",
       "\n",
       "    .dataframe tbody tr th {\n",
       "        vertical-align: top;\n",
       "    }\n",
       "\n",
       "    .dataframe thead th {\n",
       "        text-align: right;\n",
       "    }\n",
       "</style>\n",
       "<table border=\"1\" class=\"dataframe\">\n",
       "  <thead>\n",
       "    <tr style=\"text-align: right;\">\n",
       "      <th></th>\n",
       "      <th>business_id</th>\n",
       "      <th>date</th>\n",
       "    </tr>\n",
       "  </thead>\n",
       "  <tbody>\n",
       "    <tr>\n",
       "      <th>0</th>\n",
       "      <td>--1UhMGODdWsrMastO9DZw</td>\n",
       "      <td>2016-04-26 19:49:16, 2016-08-30 18:36:57, 2016...</td>\n",
       "    </tr>\n",
       "    <tr>\n",
       "      <th>1</th>\n",
       "      <td>--6MefnULPED_I942VcFNA</td>\n",
       "      <td>2011-06-04 18:22:23, 2011-07-23 23:51:33, 2012...</td>\n",
       "    </tr>\n",
       "    <tr>\n",
       "      <th>2</th>\n",
       "      <td>--7zmmkVg-IMGaXbuVd0SQ</td>\n",
       "      <td>2014-12-29 19:25:50, 2015-01-17 01:49:14, 2015...</td>\n",
       "    </tr>\n",
       "    <tr>\n",
       "      <th>3</th>\n",
       "      <td>--8LPVSo5i0Oo61X01sV9A</td>\n",
       "      <td>2016-07-08 16:43:30</td>\n",
       "    </tr>\n",
       "    <tr>\n",
       "      <th>4</th>\n",
       "      <td>--9QQLMTbFzLJ_oT-ON3Xw</td>\n",
       "      <td>2010-06-26 17:39:07, 2010-08-01 20:06:21, 2010...</td>\n",
       "    </tr>\n",
       "  </tbody>\n",
       "</table>\n",
       "</div>"
      ],
      "text/plain": [
       "              business_id                                               date\n",
       "0  --1UhMGODdWsrMastO9DZw  2016-04-26 19:49:16, 2016-08-30 18:36:57, 2016...\n",
       "1  --6MefnULPED_I942VcFNA  2011-06-04 18:22:23, 2011-07-23 23:51:33, 2012...\n",
       "2  --7zmmkVg-IMGaXbuVd0SQ  2014-12-29 19:25:50, 2015-01-17 01:49:14, 2015...\n",
       "3  --8LPVSo5i0Oo61X01sV9A                                2016-07-08 16:43:30\n",
       "4  --9QQLMTbFzLJ_oT-ON3Xw  2010-06-26 17:39:07, 2010-08-01 20:06:21, 2010..."
      ]
     },
     "execution_count": 11,
     "metadata": {},
     "output_type": "execute_result"
    }
   ],
   "source": [
    "checkin = pd.read_json('./Data/yelp_academic_dataset_checkin.json', lines = True)\n",
    "#checkin = pd.read_pickle('checkin.pkl')\n",
    "print(checkin.shape)\n",
    "checkin.head()"
   ]
  },
  {
   "cell_type": "markdown",
   "metadata": {
    "id": "i-AKIaLbOw6h"
   },
   "source": [
    "##User Data"
   ]
  },
  {
   "cell_type": "code",
   "execution_count": 12,
   "metadata": {
    "id": "fmJa7z8nOuUh"
   },
   "outputs": [
    {
     "name": "stdout",
     "output_type": "stream",
     "text": [
      "(1968703, 5)\n"
     ]
    },
    {
     "data": {
      "text/html": [
       "<div>\n",
       "<style scoped>\n",
       "    .dataframe tbody tr th:only-of-type {\n",
       "        vertical-align: middle;\n",
       "    }\n",
       "\n",
       "    .dataframe tbody tr th {\n",
       "        vertical-align: top;\n",
       "    }\n",
       "\n",
       "    .dataframe thead th {\n",
       "        text-align: right;\n",
       "    }\n",
       "</style>\n",
       "<table border=\"1\" class=\"dataframe\">\n",
       "  <thead>\n",
       "    <tr style=\"text-align: right;\">\n",
       "      <th></th>\n",
       "      <th>user_id</th>\n",
       "      <th>name</th>\n",
       "      <th>review_count</th>\n",
       "      <th>elite</th>\n",
       "      <th>average_stars</th>\n",
       "    </tr>\n",
       "  </thead>\n",
       "  <tbody>\n",
       "    <tr>\n",
       "      <th>0</th>\n",
       "      <td>ntlvfPzc8eglqvk92iDIAw</td>\n",
       "      <td>Rafael</td>\n",
       "      <td>553</td>\n",
       "      <td>0</td>\n",
       "      <td>3.57</td>\n",
       "    </tr>\n",
       "    <tr>\n",
       "      <th>1</th>\n",
       "      <td>FOBRPlBHa3WPHFB5qYDlVg</td>\n",
       "      <td>Michelle</td>\n",
       "      <td>564</td>\n",
       "      <td>1</td>\n",
       "      <td>3.84</td>\n",
       "    </tr>\n",
       "    <tr>\n",
       "      <th>2</th>\n",
       "      <td>zZUnPeh2hEp0WydbAZEOOg</td>\n",
       "      <td>Martin</td>\n",
       "      <td>60</td>\n",
       "      <td>1</td>\n",
       "      <td>3.44</td>\n",
       "    </tr>\n",
       "    <tr>\n",
       "      <th>3</th>\n",
       "      <td>QaELAmRcDc5TfJEylaaP8g</td>\n",
       "      <td>John</td>\n",
       "      <td>206</td>\n",
       "      <td>1</td>\n",
       "      <td>3.08</td>\n",
       "    </tr>\n",
       "    <tr>\n",
       "      <th>4</th>\n",
       "      <td>xvu8G900tezTzbbfqmTKvA</td>\n",
       "      <td>Anne</td>\n",
       "      <td>485</td>\n",
       "      <td>1</td>\n",
       "      <td>4.37</td>\n",
       "    </tr>\n",
       "  </tbody>\n",
       "</table>\n",
       "</div>"
      ],
      "text/plain": [
       "                  user_id      name  review_count  elite  average_stars\n",
       "0  ntlvfPzc8eglqvk92iDIAw    Rafael           553      0           3.57\n",
       "1  FOBRPlBHa3WPHFB5qYDlVg  Michelle           564      1           3.84\n",
       "2  zZUnPeh2hEp0WydbAZEOOg    Martin            60      1           3.44\n",
       "3  QaELAmRcDc5TfJEylaaP8g      John           206      1           3.08\n",
       "4  xvu8G900tezTzbbfqmTKvA      Anne           485      1           4.37"
      ]
     },
     "execution_count": 12,
     "metadata": {},
     "output_type": "execute_result"
    }
   ],
   "source": [
    "\n",
    "user = pd.read_json('./Data/yelp_academic_dataset_user.json', lines = True)\n",
    "#user = pd.read_pickle('user.pkl')\n",
    "\n",
    "user_columns_to_remove = ['compliment_cool', 'compliment_cute',\n",
    "       'compliment_funny', 'compliment_hot', 'compliment_list',\n",
    "       'compliment_more', 'compliment_note', 'compliment_photos',\n",
    "       'compliment_plain', 'compliment_profile', 'compliment_writer',\n",
    "       'cool','fans', 'friends', 'funny',\n",
    "       'useful', 'yelping_since']\n",
    "user.drop(columns = user_columns_to_remove, inplace = True)\n",
    "\n",
    "user.elite = user.elite.apply(lambda x: 0 if len(x) == 0 else 1)\n",
    "elite_user_id = user[user.elite == 1].user_id.values\n",
    "print(user.shape)\n",
    "user.head()"
   ]
  },
  {
   "cell_type": "code",
   "execution_count": 13,
   "metadata": {
    "id": "uZfgUsmFOy8f"
   },
   "outputs": [
    {
     "name": "stdout",
     "output_type": "stream",
     "text": [
      "<class 'pandas.core.frame.DataFrame'>\n",
      "RangeIndex: 1968703 entries, 0 to 1968702\n",
      "Data columns (total 5 columns):\n",
      "user_id          object\n",
      "name             object\n",
      "review_count     int64\n",
      "elite            int64\n",
      "average_stars    float64\n",
      "dtypes: float64(1), int64(2), object(2)\n",
      "memory usage: 75.1+ MB\n"
     ]
    }
   ],
   "source": [
    "user.info()"
   ]
  },
  {
   "cell_type": "markdown",
   "metadata": {
    "id": "pNPQbAn8O5PS"
   },
   "source": [
    "#Exploratory Data Analysis"
   ]
  },
  {
   "cell_type": "markdown",
   "metadata": {
    "id": "taBRRGJSPAKp"
   },
   "source": [
    "##Distribution of Reviews"
   ]
  },
  {
   "cell_type": "code",
   "execution_count": 14,
   "metadata": {
    "id": "hIi9oTeOO1M1"
   },
   "outputs": [],
   "source": [
    "dist_reviews = review.user_id.value_counts().value_counts()"
   ]
  },
  {
   "cell_type": "code",
   "execution_count": 15,
   "metadata": {
    "id": "Qops5pfPPF9I"
   },
   "outputs": [
    {
     "data": {
      "text/plain": [
       "Text(0.5, 0, 'Number of reviews')"
      ]
     },
     "execution_count": 15,
     "metadata": {},
     "output_type": "execute_result"
    },
    {
     "data": {
      "image/png": "[encoded data removed]",
      "text/plain": [
       "<Figure size 1440x720 with 1 Axes>"
      ]
     },
     "metadata": {
      "needs_background": "light"
     },
     "output_type": "display_data"
    }
   ],
   "source": [
    "ax = np.log(dist_reviews).sort_index().plot(kind = 'bar', title = 'Distribution of reviews per person', figsize = (20,10))\n",
    "\n",
    "\n",
    "ax.set_xlim(0, 300)\n",
    "ax.set_xticklabels(np.arange(0, 300, 5))\n",
    "ax.xaxis.set_ticks(np.arange(0, 300, 5))\n",
    "ax.set_ylabel(\"Number of people (in log scale)\")\n",
    "ax.set_xlabel(\"Number of reviews\")"
   ]
  },
  {
   "cell_type": "code",
   "execution_count": 16,
   "metadata": {
    "id": "RqsbKmlXPIqL"
   },
   "outputs": [
    {
     "data": {
      "text/plain": [
       "Text(0.5, 0, 'Number of reviews')"
      ]
     },
     "execution_count": 16,
     "metadata": {},
     "output_type": "execute_result"
    },
    {
     "data": {
      "image/png": "[encoded data removed]",
      "text/plain": [
       "<Figure size 1440x720 with 1 Axes>"
      ]
     },
     "metadata": {
      "needs_background": "light"
     },
     "output_type": "display_data"
    }
   ],
   "source": [
    "ax = dist_reviews.sort_index().plot(kind = 'bar', title = 'Distribution of reviews per person', figsize = (20,10))\n",
    "ax.set_xlim(-1, 100)\n",
    "ax.set_xticklabels(np.arange(0, 100, 5))\n",
    "ax.xaxis.set_ticks(np.arange(0, 100, 5))\n",
    "ax.set_ylabel(\"Number of people\")\n",
    "ax.set_xlabel(\"Number of reviews\")"
   ]
  },
  {
   "cell_type": "code",
   "execution_count": 18,
   "metadata": {
    "id": "fjADrsDfPLef"
   },
   "outputs": [
    {
     "data": {
      "text/plain": [
       "Text(0.5, 0, 'Number of reviews')"
      ]
     },
     "execution_count": 18,
     "metadata": {},
     "output_type": "execute_result"
    },
    {
     "data": {
      "image/png": "[encoded data removed]",
      "text/plain": [
       "<Figure size 1440x720 with 1 Axes>"
      ]
     },
     "metadata": {
      "needs_background": "light"
     },
     "output_type": "display_data"
    }
   ],
   "source": [
    "ax = np.log(dist_reviews[ :100]).plot(kind = 'bar', title = 'Distribution of reviews per person', figsize = (20,10))\n",
    "ax.set_ylabel(\"Number of people (in log scale)\")\n",
    "ax.set_xlabel(\"Number of reviews\")"
   ]
  },
  {
   "cell_type": "markdown",
   "metadata": {
    "id": "DB1Nu81EPRvo"
   },
   "source": [
    "##Person with the most reviews"
   ]
  },
  {
   "cell_type": "code",
   "execution_count": 19,
   "metadata": {
    "id": "ilgRFAOgPPMU"
   },
   "outputs": [
    {
     "name": "stdout",
     "output_type": "stream",
     "text": [
      "Name : Victor\n",
      "Number of Reviews : 14455\n",
      "First Review : 2008-03-01 03:05:19\n",
      "Latest Review : 2014-05-24 15:07:13\n"
     ]
    }
   ],
   "source": [
    "max_rev_user_id = user.user_id[user.review_count == max(user.review_count)].values[0]\n",
    "print('Name : %s' % (user.name[user.user_id == max_rev_user_id].values[0]))\n",
    "print('Number of Reviews : %s' % (user.review_count[user.user_id == max_rev_user_id].values[0]))\n",
    "\n",
    "person_most_reviews = review[review.user_id == max_rev_user_id]\n",
    "print('First Review : %s' % min(person_most_reviews.date))\n",
    "print('Latest Review : %s' % max(person_most_reviews.date))"
   ]
  },
  {
   "cell_type": "code",
   "execution_count": 20,
   "metadata": {
    "id": "D0O-XX_NPUA9"
   },
   "outputs": [
    {
     "data": {
      "text/html": [
       "<div>\n",
       "<style scoped>\n",
       "    .dataframe tbody tr th:only-of-type {\n",
       "        vertical-align: middle;\n",
       "    }\n",
       "\n",
       "    .dataframe tbody tr th {\n",
       "        vertical-align: top;\n",
       "    }\n",
       "\n",
       "    .dataframe thead th {\n",
       "        text-align: right;\n",
       "    }\n",
       "</style>\n",
       "<table border=\"1\" class=\"dataframe\">\n",
       "  <thead>\n",
       "    <tr style=\"text-align: right;\">\n",
       "      <th></th>\n",
       "      <th>review_id</th>\n",
       "      <th>user_id</th>\n",
       "      <th>business_id</th>\n",
       "      <th>stars</th>\n",
       "      <th>useful</th>\n",
       "      <th>text</th>\n",
       "      <th>date</th>\n",
       "    </tr>\n",
       "  </thead>\n",
       "  <tbody>\n",
       "    <tr>\n",
       "      <th>126675</th>\n",
       "      <td>npvFgpL_EztB8jbENf9y6Q</td>\n",
       "      <td>8k3aO-mPeyhbR5HUucA5aA</td>\n",
       "      <td>J-U6C8FgveGsDdHwRB56OQ</td>\n",
       "      <td>5</td>\n",
       "      <td>43</td>\n",
       "      <td>Global Pharmacy Canada is an online website wh...</td>\n",
       "      <td>2011-11-06 13:43:01</td>\n",
       "    </tr>\n",
       "    <tr>\n",
       "      <th>363414</th>\n",
       "      <td>hsKnV3BM6se0VcnFM7RIMw</td>\n",
       "      <td>8k3aO-mPeyhbR5HUucA5aA</td>\n",
       "      <td>u_vPjx925UPEG9DFOAAvFQ</td>\n",
       "      <td>2</td>\n",
       "      <td>1</td>\n",
       "      <td>was this one of many casinos that didn't offer...</td>\n",
       "      <td>2008-03-01 03:17:42</td>\n",
       "    </tr>\n",
       "    <tr>\n",
       "      <th>419275</th>\n",
       "      <td>UnW63C7p_5FEAqcN9vUGgQ</td>\n",
       "      <td>8k3aO-mPeyhbR5HUucA5aA</td>\n",
       "      <td>J-U6C8FgveGsDdHwRB56OQ</td>\n",
       "      <td>1</td>\n",
       "      <td>55</td>\n",
       "      <td>on or about june 25th, 2013, Global Pharmacy C...</td>\n",
       "      <td>2014-05-24 15:07:13</td>\n",
       "    </tr>\n",
       "    <tr>\n",
       "      <th>1050765</th>\n",
       "      <td>Hrlm9LvgiQTvmw0L5zOqOQ</td>\n",
       "      <td>8k3aO-mPeyhbR5HUucA5aA</td>\n",
       "      <td>ii8sAGBexBOJoYRFafF9XQ</td>\n",
       "      <td>3</td>\n",
       "      <td>0</td>\n",
       "      <td>i stayed here but don't remember much else. th...</td>\n",
       "      <td>2008-03-01 03:15:01</td>\n",
       "    </tr>\n",
       "    <tr>\n",
       "      <th>2281920</th>\n",
       "      <td>idtF1AP1tlTHMVJVmX4NzQ</td>\n",
       "      <td>8k3aO-mPeyhbR5HUucA5aA</td>\n",
       "      <td>na4Th5DrNauOv-c43QQFvA</td>\n",
       "      <td>3</td>\n",
       "      <td>2</td>\n",
       "      <td>when i was there, this place spelled elegance ...</td>\n",
       "      <td>2008-03-01 03:08:49</td>\n",
       "    </tr>\n",
       "    <tr>\n",
       "      <th>3015364</th>\n",
       "      <td>lobDkv7bYpJXuG_ZBKPOUg</td>\n",
       "      <td>8k3aO-mPeyhbR5HUucA5aA</td>\n",
       "      <td>z7GAft_JrFNmAH5xbVeYSA</td>\n",
       "      <td>3</td>\n",
       "      <td>4</td>\n",
       "      <td>it was pretty cheap to fly to las vegas. depen...</td>\n",
       "      <td>2008-03-01 03:20:53</td>\n",
       "    </tr>\n",
       "    <tr>\n",
       "      <th>5883909</th>\n",
       "      <td>7M8WX2FErASIRdf68r_NIQ</td>\n",
       "      <td>8k3aO-mPeyhbR5HUucA5aA</td>\n",
       "      <td>DfgZlNgKwBvCpA_0alumXw</td>\n",
       "      <td>3</td>\n",
       "      <td>1</td>\n",
       "      <td>sure they give you free cohibas and cognac for...</td>\n",
       "      <td>2008-03-01 03:05:19</td>\n",
       "    </tr>\n",
       "    <tr>\n",
       "      <th>6535440</th>\n",
       "      <td>Cg544WBUSYsJZRP_zjUYYw</td>\n",
       "      <td>8k3aO-mPeyhbR5HUucA5aA</td>\n",
       "      <td>6Q7-wkCPc1KF75jZLOTcMw</td>\n",
       "      <td>1</td>\n",
       "      <td>2</td>\n",
       "      <td>Decades ago, i  booked  low priced rooms here ...</td>\n",
       "      <td>2011-03-25 05:14:32</td>\n",
       "    </tr>\n",
       "  </tbody>\n",
       "</table>\n",
       "</div>"
      ],
      "text/plain": [
       "                      review_id                 user_id  \\\n",
       "126675   npvFgpL_EztB8jbENf9y6Q  8k3aO-mPeyhbR5HUucA5aA   \n",
       "363414   hsKnV3BM6se0VcnFM7RIMw  8k3aO-mPeyhbR5HUucA5aA   \n",
       "419275   UnW63C7p_5FEAqcN9vUGgQ  8k3aO-mPeyhbR5HUucA5aA   \n",
       "1050765  Hrlm9LvgiQTvmw0L5zOqOQ  8k3aO-mPeyhbR5HUucA5aA   \n",
       "2281920  idtF1AP1tlTHMVJVmX4NzQ  8k3aO-mPeyhbR5HUucA5aA   \n",
       "3015364  lobDkv7bYpJXuG_ZBKPOUg  8k3aO-mPeyhbR5HUucA5aA   \n",
       "5883909  7M8WX2FErASIRdf68r_NIQ  8k3aO-mPeyhbR5HUucA5aA   \n",
       "6535440  Cg544WBUSYsJZRP_zjUYYw  8k3aO-mPeyhbR5HUucA5aA   \n",
       "\n",
       "                    business_id  stars  useful  \\\n",
       "126675   J-U6C8FgveGsDdHwRB56OQ      5      43   \n",
       "363414   u_vPjx925UPEG9DFOAAvFQ      2       1   \n",
       "419275   J-U6C8FgveGsDdHwRB56OQ      1      55   \n",
       "1050765  ii8sAGBexBOJoYRFafF9XQ      3       0   \n",
       "2281920  na4Th5DrNauOv-c43QQFvA      3       2   \n",
       "3015364  z7GAft_JrFNmAH5xbVeYSA      3       4   \n",
       "5883909  DfgZlNgKwBvCpA_0alumXw      3       1   \n",
       "6535440  6Q7-wkCPc1KF75jZLOTcMw      1       2   \n",
       "\n",
       "                                                      text                date  \n",
       "126675   Global Pharmacy Canada is an online website wh... 2011-11-06 13:43:01  \n",
       "363414   was this one of many casinos that didn't offer... 2008-03-01 03:17:42  \n",
       "419275   on or about june 25th, 2013, Global Pharmacy C... 2014-05-24 15:07:13  \n",
       "1050765  i stayed here but don't remember much else. th... 2008-03-01 03:15:01  \n",
       "2281920  when i was there, this place spelled elegance ... 2008-03-01 03:08:49  \n",
       "3015364  it was pretty cheap to fly to las vegas. depen... 2008-03-01 03:20:53  \n",
       "5883909  sure they give you free cohibas and cognac for... 2008-03-01 03:05:19  \n",
       "6535440  Decades ago, i  booked  low priced rooms here ... 2011-03-25 05:14:32  "
      ]
     },
     "execution_count": 20,
     "metadata": {},
     "output_type": "execute_result"
    }
   ],
   "source": [
    "person_most_reviews"
   ]
  },
  {
   "cell_type": "markdown",
   "metadata": {
    "id": "9A9nFSWgPZ3I"
   },
   "source": [
    "##Ratings"
   ]
  },
  {
   "cell_type": "code",
   "execution_count": 21,
   "metadata": {
    "id": "5AQgvXiNPX6b"
   },
   "outputs": [
    {
     "data": {
      "text/plain": [
       "Text(0.5, 0, 'Rating of review')"
      ]
     },
     "execution_count": 21,
     "metadata": {},
     "output_type": "execute_result"
    },
    {
     "data": {
      "image/png": "[encoded data removed]",
      "text/plain": [
       "<Figure size 432x288 with 1 Axes>"
      ]
     },
     "metadata": {
      "needs_background": "light"
     },
     "output_type": "display_data"
    }
   ],
   "source": [
    "ax = review['stars'].value_counts().sort_index().plot(kind = 'bar', title = 'Distribution of Ratings')\n",
    "ax.set_ylabel(\"Number of reviews\")\n",
    "ax.set_xlabel(\"Rating of review\")"
   ]
  },
  {
   "cell_type": "code",
   "execution_count": 22,
   "metadata": {
    "id": "F7L1cc-JPb5q"
   },
   "outputs": [
    {
     "data": {
      "text/plain": [
       "Text(0.5, 0, 'Average review rating')"
      ]
     },
     "execution_count": 22,
     "metadata": {},
     "output_type": "execute_result"
    },
    {
     "data": {
      "image/png": "[encoded data removed]",
      "text/plain": [
       "<Figure size 432x288 with 1 Axes>"
      ]
     },
     "metadata": {
      "needs_background": "light"
     },
     "output_type": "display_data"
    }
   ],
   "source": [
    "avg_rating_user = pd.Series(np.round(review[['stars', 'user_id']].groupby('user_id').mean()['stars'].values * 2) / 2)\n",
    "ax = avg_rating_user.value_counts().sort_index().plot(kind = 'bar', title = 'Distribution of average review rating')\n",
    "\n",
    "ax.set_ylabel(\"Number of people\")\n",
    "ax.set_xlabel(\"Average review rating\")"
   ]
  },
  {
   "cell_type": "code",
   "execution_count": 23,
   "metadata": {
    "id": "I-Ak2mRyPd07"
   },
   "outputs": [],
   "source": [
    "avg_rating_user_elite = pd.Series(np.round(review[review.user_id.isin(elite_user_id)][['stars', 'user_id']].groupby('user_id').mean()['stars'].values * 2) / 2)\n",
    "avg_rating_user_non_elite = pd.Series(np.round(review[~review.user_id.isin(elite_user_id)][['stars', 'user_id']].groupby('user_id').mean()['stars'].values * 2) / 2)"
   ]
  },
  {
   "cell_type": "code",
   "execution_count": 24,
   "metadata": {
    "id": "7FK3MUnPPgoS"
   },
   "outputs": [
    {
     "data": {
      "text/markdown": [
       "**Distribution of average review rating**"
      ],
      "text/plain": [
       "<IPython.core.display.Markdown object>"
      ]
     },
     "metadata": {},
     "output_type": "display_data"
    },
    {
     "name": "stdout",
     "output_type": "stream",
     "text": [
      "\n"
     ]
    },
    {
     "data": {
      "image/png": "[encoded data removed]",
      "text/plain": [
       "<Figure size 720x360 with 2 Axes>"
      ]
     },
     "metadata": {
      "needs_background": "light"
     },
     "output_type": "display_data"
    }
   ],
   "source": [
    "printmd('**Distribution of average review rating**')\n",
    "plt.subplots(1, 2, figsize=(10, 5))\n",
    "plt.subplot(1, 2, 1)\n",
    "ax = avg_rating_user_elite.value_counts().sort_index().plot(kind = 'bar', title = 'Elite users')\n",
    "ax.set_ylabel(\"Number of people\")\n",
    "ax.set_xlabel(\"Average review rating\")\n",
    "plt.subplot(1, 2, 2)\n",
    "ax1 = avg_rating_user_non_elite.value_counts().sort_index().plot(kind = 'bar', title = 'Non-elite users')\n",
    "ax1.set_xlabel(\"Average review rating\")\n",
    "print()"
   ]
  },
  {
   "cell_type": "markdown",
   "metadata": {
    "id": "RdHMnCuDQYv7"
   },
   "source": [
    "#Dropping Records that are not part of the analysis"
   ]
  },
  {
   "cell_type": "code",
   "execution_count": 44,
   "metadata": {},
   "outputs": [],
   "source": [
    "business = business.dropna()"
   ]
  },
  {
   "cell_type": "code",
   "execution_count": 45,
   "metadata": {
    "id": "RrMiv3h7QWHY"
   },
   "outputs": [],
   "source": [
    "# Dropping non restaurants businesses\n",
    "bus_cat_filter = business.categories.apply(lambda x: False if 'Restaurants' in x else True)\n",
    "business.drop(business[bus_cat_filter].index, inplace = True)"
   ]
  },
  {
   "cell_type": "code",
   "execution_count": 46,
   "metadata": {
    "id": "IsHhqqlRQdcI"
   },
   "outputs": [],
   "source": [
    "# Dropping reviews of non restaurants and non-food business\n",
    "rew_busniess_filter = review.business_id.isin(list(business.business_id))\n",
    "review = review[rew_busniess_filter]"
   ]
  },
  {
   "cell_type": "code",
   "execution_count": 49,
   "metadata": {},
   "outputs": [
    {
     "data": {
      "text/html": [
       "<div>\n",
       "<style scoped>\n",
       "    .dataframe tbody tr th:only-of-type {\n",
       "        vertical-align: middle;\n",
       "    }\n",
       "\n",
       "    .dataframe tbody tr th {\n",
       "        vertical-align: top;\n",
       "    }\n",
       "\n",
       "    .dataframe thead th {\n",
       "        text-align: right;\n",
       "    }\n",
       "</style>\n",
       "<table border=\"1\" class=\"dataframe\">\n",
       "  <thead>\n",
       "    <tr style=\"text-align: right;\">\n",
       "      <th></th>\n",
       "      <th>Acai Bowls, Food, Juice Bars &amp; Smoothies, Breakfast &amp; Brunch, Comfort Food, Restaurants, Donuts, Gelato, Bakeries, Coffee &amp; Tea</th>\n",
       "      <th>Acai Bowls, Food, Restaurants, Desserts, Vegan</th>\n",
       "      <th>Acai Bowls, Ice Cream &amp; Frozen Yogurt, Gluten-Free, Restaurants, Food, Juice Bars &amp; Smoothies</th>\n",
       "      <th>Acai Bowls, Poke, Juice Bars &amp; Smoothies, Gluten-Free, Vegan, Food, Restaurants</th>\n",
       "      <th>Acai Bowls, Poke, Juice Bars &amp; Smoothies, Vegan, Food, Restaurants, Gluten-Free</th>\n",
       "      <th>Acai Bowls, Restaurants, Gluten-Free, Ice Cream &amp; Frozen Yogurt, Juice Bars &amp; Smoothies, Food</th>\n",
       "      <th>Acai Bowls, Restaurants, Juice Bars &amp; Smoothies, Food, American (New), Sandwiches, Salad</th>\n",
       "      <th>Acai Bowls, Sandwiches, Salad, Juice Bars &amp; Smoothies, Restaurants, Food</th>\n",
       "      <th>Acai Bowls, Vegan, Restaurants, Juice Bars &amp; Smoothies, Vegetarian, Food, Fruits &amp; Veggies, Specialty Food, Organic Stores</th>\n",
       "      <th>Accessories, Department Stores, Men's Clothing, Fashion, Restaurants, Shopping, Women's Clothing, Cosmetics &amp; Beauty Supply, Shoe Stores, Beauty &amp; Spas</th>\n",
       "      <th>...</th>\n",
       "      <th>Wraps, Restaurants, Cafes, Breakfast &amp; Brunch</th>\n",
       "      <th>Wraps, Restaurants, Food, Juice Bars &amp; Smoothies</th>\n",
       "      <th>Wraps, Restaurants, Food, Juice Bars &amp; Smoothies, Cafes, Salad, Sandwiches</th>\n",
       "      <th>Wraps, Restaurants, Salad</th>\n",
       "      <th>Wraps, Restaurants, Salad, Food, Juice Bars &amp; Smoothies, Vegetarian, Sandwiches</th>\n",
       "      <th>Wraps, Salad, Burgers, Event Planning &amp; Services, Restaurants, Caterers, Fast Food</th>\n",
       "      <th>Wraps, Salad, Event Planning &amp; Services, Caterers, Sandwiches, Restaurants</th>\n",
       "      <th>Wraps, Salad, Food, Juice Bars &amp; Smoothies, Restaurants</th>\n",
       "      <th>Wraps, Salad, Restaurants, Food, Juice Bars &amp; Smoothies</th>\n",
       "      <th>Wraps, Sandwiches, Restaurants, Salad, Food, Acai Bowls</th>\n",
       "    </tr>\n",
       "  </thead>\n",
       "  <tbody>\n",
       "    <tr>\n",
       "      <th>8</th>\n",
       "      <td>NaN</td>\n",
       "      <td>NaN</td>\n",
       "      <td>NaN</td>\n",
       "      <td>NaN</td>\n",
       "      <td>NaN</td>\n",
       "      <td>NaN</td>\n",
       "      <td>NaN</td>\n",
       "      <td>NaN</td>\n",
       "      <td>NaN</td>\n",
       "      <td>NaN</td>\n",
       "      <td>...</td>\n",
       "      <td>NaN</td>\n",
       "      <td>NaN</td>\n",
       "      <td>NaN</td>\n",
       "      <td>NaN</td>\n",
       "      <td>NaN</td>\n",
       "      <td>NaN</td>\n",
       "      <td>NaN</td>\n",
       "      <td>NaN</td>\n",
       "      <td>NaN</td>\n",
       "      <td>NaN</td>\n",
       "    </tr>\n",
       "    <tr>\n",
       "      <th>24</th>\n",
       "      <td>NaN</td>\n",
       "      <td>NaN</td>\n",
       "      <td>NaN</td>\n",
       "      <td>NaN</td>\n",
       "      <td>NaN</td>\n",
       "      <td>NaN</td>\n",
       "      <td>NaN</td>\n",
       "      <td>NaN</td>\n",
       "      <td>NaN</td>\n",
       "      <td>NaN</td>\n",
       "      <td>...</td>\n",
       "      <td>NaN</td>\n",
       "      <td>NaN</td>\n",
       "      <td>NaN</td>\n",
       "      <td>NaN</td>\n",
       "      <td>NaN</td>\n",
       "      <td>NaN</td>\n",
       "      <td>NaN</td>\n",
       "      <td>NaN</td>\n",
       "      <td>NaN</td>\n",
       "      <td>NaN</td>\n",
       "    </tr>\n",
       "    <tr>\n",
       "      <th>30</th>\n",
       "      <td>NaN</td>\n",
       "      <td>NaN</td>\n",
       "      <td>NaN</td>\n",
       "      <td>NaN</td>\n",
       "      <td>NaN</td>\n",
       "      <td>NaN</td>\n",
       "      <td>NaN</td>\n",
       "      <td>NaN</td>\n",
       "      <td>NaN</td>\n",
       "      <td>NaN</td>\n",
       "      <td>...</td>\n",
       "      <td>NaN</td>\n",
       "      <td>NaN</td>\n",
       "      <td>NaN</td>\n",
       "      <td>NaN</td>\n",
       "      <td>NaN</td>\n",
       "      <td>NaN</td>\n",
       "      <td>NaN</td>\n",
       "      <td>NaN</td>\n",
       "      <td>NaN</td>\n",
       "      <td>NaN</td>\n",
       "    </tr>\n",
       "    <tr>\n",
       "      <th>33</th>\n",
       "      <td>NaN</td>\n",
       "      <td>NaN</td>\n",
       "      <td>NaN</td>\n",
       "      <td>NaN</td>\n",
       "      <td>NaN</td>\n",
       "      <td>NaN</td>\n",
       "      <td>NaN</td>\n",
       "      <td>NaN</td>\n",
       "      <td>NaN</td>\n",
       "      <td>NaN</td>\n",
       "      <td>...</td>\n",
       "      <td>NaN</td>\n",
       "      <td>NaN</td>\n",
       "      <td>NaN</td>\n",
       "      <td>NaN</td>\n",
       "      <td>NaN</td>\n",
       "      <td>NaN</td>\n",
       "      <td>NaN</td>\n",
       "      <td>NaN</td>\n",
       "      <td>NaN</td>\n",
       "      <td>NaN</td>\n",
       "    </tr>\n",
       "    <tr>\n",
       "      <th>41</th>\n",
       "      <td>NaN</td>\n",
       "      <td>NaN</td>\n",
       "      <td>NaN</td>\n",
       "      <td>NaN</td>\n",
       "      <td>NaN</td>\n",
       "      <td>NaN</td>\n",
       "      <td>NaN</td>\n",
       "      <td>NaN</td>\n",
       "      <td>NaN</td>\n",
       "      <td>NaN</td>\n",
       "      <td>...</td>\n",
       "      <td>NaN</td>\n",
       "      <td>NaN</td>\n",
       "      <td>NaN</td>\n",
       "      <td>NaN</td>\n",
       "      <td>NaN</td>\n",
       "      <td>NaN</td>\n",
       "      <td>NaN</td>\n",
       "      <td>NaN</td>\n",
       "      <td>NaN</td>\n",
       "      <td>NaN</td>\n",
       "    </tr>\n",
       "    <tr>\n",
       "      <th>...</th>\n",
       "      <td>...</td>\n",
       "      <td>...</td>\n",
       "      <td>...</td>\n",
       "      <td>...</td>\n",
       "      <td>...</td>\n",
       "      <td>...</td>\n",
       "      <td>...</td>\n",
       "      <td>...</td>\n",
       "      <td>...</td>\n",
       "      <td>...</td>\n",
       "      <td>...</td>\n",
       "      <td>...</td>\n",
       "      <td>...</td>\n",
       "      <td>...</td>\n",
       "      <td>...</td>\n",
       "      <td>...</td>\n",
       "      <td>...</td>\n",
       "      <td>...</td>\n",
       "      <td>...</td>\n",
       "      <td>...</td>\n",
       "      <td>...</td>\n",
       "    </tr>\n",
       "    <tr>\n",
       "      <th>209359</th>\n",
       "      <td>NaN</td>\n",
       "      <td>NaN</td>\n",
       "      <td>NaN</td>\n",
       "      <td>NaN</td>\n",
       "      <td>NaN</td>\n",
       "      <td>NaN</td>\n",
       "      <td>NaN</td>\n",
       "      <td>NaN</td>\n",
       "      <td>NaN</td>\n",
       "      <td>NaN</td>\n",
       "      <td>...</td>\n",
       "      <td>NaN</td>\n",
       "      <td>NaN</td>\n",
       "      <td>NaN</td>\n",
       "      <td>NaN</td>\n",
       "      <td>NaN</td>\n",
       "      <td>NaN</td>\n",
       "      <td>NaN</td>\n",
       "      <td>NaN</td>\n",
       "      <td>NaN</td>\n",
       "      <td>NaN</td>\n",
       "    </tr>\n",
       "    <tr>\n",
       "      <th>209362</th>\n",
       "      <td>NaN</td>\n",
       "      <td>NaN</td>\n",
       "      <td>NaN</td>\n",
       "      <td>NaN</td>\n",
       "      <td>NaN</td>\n",
       "      <td>NaN</td>\n",
       "      <td>NaN</td>\n",
       "      <td>NaN</td>\n",
       "      <td>NaN</td>\n",
       "      <td>NaN</td>\n",
       "      <td>...</td>\n",
       "      <td>NaN</td>\n",
       "      <td>NaN</td>\n",
       "      <td>NaN</td>\n",
       "      <td>NaN</td>\n",
       "      <td>NaN</td>\n",
       "      <td>NaN</td>\n",
       "      <td>NaN</td>\n",
       "      <td>NaN</td>\n",
       "      <td>NaN</td>\n",
       "      <td>NaN</td>\n",
       "    </tr>\n",
       "    <tr>\n",
       "      <th>209376</th>\n",
       "      <td>NaN</td>\n",
       "      <td>NaN</td>\n",
       "      <td>NaN</td>\n",
       "      <td>NaN</td>\n",
       "      <td>NaN</td>\n",
       "      <td>NaN</td>\n",
       "      <td>NaN</td>\n",
       "      <td>NaN</td>\n",
       "      <td>NaN</td>\n",
       "      <td>NaN</td>\n",
       "      <td>...</td>\n",
       "      <td>NaN</td>\n",
       "      <td>NaN</td>\n",
       "      <td>NaN</td>\n",
       "      <td>NaN</td>\n",
       "      <td>NaN</td>\n",
       "      <td>NaN</td>\n",
       "      <td>NaN</td>\n",
       "      <td>NaN</td>\n",
       "      <td>NaN</td>\n",
       "      <td>NaN</td>\n",
       "    </tr>\n",
       "    <tr>\n",
       "      <th>209385</th>\n",
       "      <td>NaN</td>\n",
       "      <td>NaN</td>\n",
       "      <td>NaN</td>\n",
       "      <td>NaN</td>\n",
       "      <td>NaN</td>\n",
       "      <td>NaN</td>\n",
       "      <td>NaN</td>\n",
       "      <td>NaN</td>\n",
       "      <td>NaN</td>\n",
       "      <td>NaN</td>\n",
       "      <td>...</td>\n",
       "      <td>NaN</td>\n",
       "      <td>NaN</td>\n",
       "      <td>NaN</td>\n",
       "      <td>NaN</td>\n",
       "      <td>NaN</td>\n",
       "      <td>NaN</td>\n",
       "      <td>NaN</td>\n",
       "      <td>NaN</td>\n",
       "      <td>NaN</td>\n",
       "      <td>NaN</td>\n",
       "    </tr>\n",
       "    <tr>\n",
       "      <th>209390</th>\n",
       "      <td>NaN</td>\n",
       "      <td>NaN</td>\n",
       "      <td>NaN</td>\n",
       "      <td>NaN</td>\n",
       "      <td>NaN</td>\n",
       "      <td>NaN</td>\n",
       "      <td>NaN</td>\n",
       "      <td>NaN</td>\n",
       "      <td>NaN</td>\n",
       "      <td>NaN</td>\n",
       "      <td>...</td>\n",
       "      <td>NaN</td>\n",
       "      <td>NaN</td>\n",
       "      <td>NaN</td>\n",
       "      <td>NaN</td>\n",
       "      <td>NaN</td>\n",
       "      <td>NaN</td>\n",
       "      <td>NaN</td>\n",
       "      <td>NaN</td>\n",
       "      <td>NaN</td>\n",
       "      <td>NaN</td>\n",
       "    </tr>\n",
       "  </tbody>\n",
       "</table>\n",
       "<p>36875 rows × 22707 columns</p>\n",
       "</div>"
      ],
      "text/plain": [
       "        Acai Bowls, Food, Juice Bars & Smoothies, Breakfast & Brunch, Comfort Food, Restaurants, Donuts, Gelato, Bakeries, Coffee & Tea  \\\n",
       "8                                                     NaN                                                                                 \n",
       "24                                                    NaN                                                                                 \n",
       "30                                                    NaN                                                                                 \n",
       "33                                                    NaN                                                                                 \n",
       "41                                                    NaN                                                                                 \n",
       "...                                                   ...                                                                                 \n",
       "209359                                                NaN                                                                                 \n",
       "209362                                                NaN                                                                                 \n",
       "209376                                                NaN                                                                                 \n",
       "209385                                                NaN                                                                                 \n",
       "209390                                                NaN                                                                                 \n",
       "\n",
       "        Acai Bowls, Food, Restaurants, Desserts, Vegan  \\\n",
       "8                                                  NaN   \n",
       "24                                                 NaN   \n",
       "30                                                 NaN   \n",
       "33                                                 NaN   \n",
       "41                                                 NaN   \n",
       "...                                                ...   \n",
       "209359                                             NaN   \n",
       "209362                                             NaN   \n",
       "209376                                             NaN   \n",
       "209385                                             NaN   \n",
       "209390                                             NaN   \n",
       "\n",
       "        Acai Bowls, Ice Cream & Frozen Yogurt, Gluten-Free, Restaurants, Food, Juice Bars & Smoothies  \\\n",
       "8                                                     NaN                                               \n",
       "24                                                    NaN                                               \n",
       "30                                                    NaN                                               \n",
       "33                                                    NaN                                               \n",
       "41                                                    NaN                                               \n",
       "...                                                   ...                                               \n",
       "209359                                                NaN                                               \n",
       "209362                                                NaN                                               \n",
       "209376                                                NaN                                               \n",
       "209385                                                NaN                                               \n",
       "209390                                                NaN                                               \n",
       "\n",
       "        Acai Bowls, Poke, Juice Bars & Smoothies, Gluten-Free, Vegan, Food, Restaurants  \\\n",
       "8                                                     NaN                                 \n",
       "24                                                    NaN                                 \n",
       "30                                                    NaN                                 \n",
       "33                                                    NaN                                 \n",
       "41                                                    NaN                                 \n",
       "...                                                   ...                                 \n",
       "209359                                                NaN                                 \n",
       "209362                                                NaN                                 \n",
       "209376                                                NaN                                 \n",
       "209385                                                NaN                                 \n",
       "209390                                                NaN                                 \n",
       "\n",
       "        Acai Bowls, Poke, Juice Bars & Smoothies, Vegan, Food, Restaurants, Gluten-Free  \\\n",
       "8                                                     NaN                                 \n",
       "24                                                    NaN                                 \n",
       "30                                                    NaN                                 \n",
       "33                                                    NaN                                 \n",
       "41                                                    NaN                                 \n",
       "...                                                   ...                                 \n",
       "209359                                                NaN                                 \n",
       "209362                                                NaN                                 \n",
       "209376                                                NaN                                 \n",
       "209385                                                NaN                                 \n",
       "209390                                                NaN                                 \n",
       "\n",
       "        Acai Bowls, Restaurants, Gluten-Free, Ice Cream & Frozen Yogurt, Juice Bars & Smoothies, Food  \\\n",
       "8                                                     NaN                                               \n",
       "24                                                    NaN                                               \n",
       "30                                                    NaN                                               \n",
       "33                                                    NaN                                               \n",
       "41                                                    NaN                                               \n",
       "...                                                   ...                                               \n",
       "209359                                                NaN                                               \n",
       "209362                                                NaN                                               \n",
       "209376                                                NaN                                               \n",
       "209385                                                NaN                                               \n",
       "209390                                                NaN                                               \n",
       "\n",
       "        Acai Bowls, Restaurants, Juice Bars & Smoothies, Food, American (New), Sandwiches, Salad  \\\n",
       "8                                                     NaN                                          \n",
       "24                                                    NaN                                          \n",
       "30                                                    NaN                                          \n",
       "33                                                    NaN                                          \n",
       "41                                                    NaN                                          \n",
       "...                                                   ...                                          \n",
       "209359                                                NaN                                          \n",
       "209362                                                NaN                                          \n",
       "209376                                                NaN                                          \n",
       "209385                                                NaN                                          \n",
       "209390                                                NaN                                          \n",
       "\n",
       "        Acai Bowls, Sandwiches, Salad, Juice Bars & Smoothies, Restaurants, Food  \\\n",
       "8                                                     NaN                          \n",
       "24                                                    NaN                          \n",
       "30                                                    NaN                          \n",
       "33                                                    NaN                          \n",
       "41                                                    NaN                          \n",
       "...                                                   ...                          \n",
       "209359                                                NaN                          \n",
       "209362                                                NaN                          \n",
       "209376                                                NaN                          \n",
       "209385                                                NaN                          \n",
       "209390                                                NaN                          \n",
       "\n",
       "        Acai Bowls, Vegan, Restaurants, Juice Bars & Smoothies, Vegetarian, Food, Fruits & Veggies, Specialty Food, Organic Stores  \\\n",
       "8                                                     NaN                                                                            \n",
       "24                                                    NaN                                                                            \n",
       "30                                                    NaN                                                                            \n",
       "33                                                    NaN                                                                            \n",
       "41                                                    NaN                                                                            \n",
       "...                                                   ...                                                                            \n",
       "209359                                                NaN                                                                            \n",
       "209362                                                NaN                                                                            \n",
       "209376                                                NaN                                                                            \n",
       "209385                                                NaN                                                                            \n",
       "209390                                                NaN                                                                            \n",
       "\n",
       "        Accessories, Department Stores, Men's Clothing, Fashion, Restaurants, Shopping, Women's Clothing, Cosmetics & Beauty Supply, Shoe Stores, Beauty & Spas  \\\n",
       "8                                                     NaN                                                                                                         \n",
       "24                                                    NaN                                                                                                         \n",
       "30                                                    NaN                                                                                                         \n",
       "33                                                    NaN                                                                                                         \n",
       "41                                                    NaN                                                                                                         \n",
       "...                                                   ...                                                                                                         \n",
       "209359                                                NaN                                                                                                         \n",
       "209362                                                NaN                                                                                                         \n",
       "209376                                                NaN                                                                                                         \n",
       "209385                                                NaN                                                                                                         \n",
       "209390                                                NaN                                                                                                         \n",
       "\n",
       "        ...  Wraps, Restaurants, Cafes, Breakfast & Brunch  \\\n",
       "8       ...                                            NaN   \n",
       "24      ...                                            NaN   \n",
       "30      ...                                            NaN   \n",
       "33      ...                                            NaN   \n",
       "41      ...                                            NaN   \n",
       "...     ...                                            ...   \n",
       "209359  ...                                            NaN   \n",
       "209362  ...                                            NaN   \n",
       "209376  ...                                            NaN   \n",
       "209385  ...                                            NaN   \n",
       "209390  ...                                            NaN   \n",
       "\n",
       "        Wraps, Restaurants, Food, Juice Bars & Smoothies  \\\n",
       "8                                                    NaN   \n",
       "24                                                   NaN   \n",
       "30                                                   NaN   \n",
       "33                                                   NaN   \n",
       "41                                                   NaN   \n",
       "...                                                  ...   \n",
       "209359                                               NaN   \n",
       "209362                                               NaN   \n",
       "209376                                               NaN   \n",
       "209385                                               NaN   \n",
       "209390                                               NaN   \n",
       "\n",
       "        Wraps, Restaurants, Food, Juice Bars & Smoothies, Cafes, Salad, Sandwiches  \\\n",
       "8                                                     NaN                            \n",
       "24                                                    NaN                            \n",
       "30                                                    NaN                            \n",
       "33                                                    NaN                            \n",
       "41                                                    NaN                            \n",
       "...                                                   ...                            \n",
       "209359                                                NaN                            \n",
       "209362                                                NaN                            \n",
       "209376                                                NaN                            \n",
       "209385                                                NaN                            \n",
       "209390                                                NaN                            \n",
       "\n",
       "        Wraps, Restaurants, Salad  \\\n",
       "8                             NaN   \n",
       "24                            NaN   \n",
       "30                            NaN   \n",
       "33                            NaN   \n",
       "41                            NaN   \n",
       "...                           ...   \n",
       "209359                        NaN   \n",
       "209362                        NaN   \n",
       "209376                        NaN   \n",
       "209385                        NaN   \n",
       "209390                        NaN   \n",
       "\n",
       "        Wraps, Restaurants, Salad, Food, Juice Bars & Smoothies, Vegetarian, Sandwiches  \\\n",
       "8                                                     NaN                                 \n",
       "24                                                    NaN                                 \n",
       "30                                                    NaN                                 \n",
       "33                                                    NaN                                 \n",
       "41                                                    NaN                                 \n",
       "...                                                   ...                                 \n",
       "209359                                                NaN                                 \n",
       "209362                                                NaN                                 \n",
       "209376                                                NaN                                 \n",
       "209385                                                NaN                                 \n",
       "209390                                                NaN                                 \n",
       "\n",
       "        Wraps, Salad, Burgers, Event Planning & Services, Restaurants, Caterers, Fast Food  \\\n",
       "8                                                     NaN                                    \n",
       "24                                                    NaN                                    \n",
       "30                                                    NaN                                    \n",
       "33                                                    NaN                                    \n",
       "41                                                    NaN                                    \n",
       "...                                                   ...                                    \n",
       "209359                                                NaN                                    \n",
       "209362                                                NaN                                    \n",
       "209376                                                NaN                                    \n",
       "209385                                                NaN                                    \n",
       "209390                                                NaN                                    \n",
       "\n",
       "        Wraps, Salad, Event Planning & Services, Caterers, Sandwiches, Restaurants  \\\n",
       "8                                                     NaN                            \n",
       "24                                                    NaN                            \n",
       "30                                                    NaN                            \n",
       "33                                                    NaN                            \n",
       "41                                                    NaN                            \n",
       "...                                                   ...                            \n",
       "209359                                                NaN                            \n",
       "209362                                                NaN                            \n",
       "209376                                                NaN                            \n",
       "209385                                                NaN                            \n",
       "209390                                                NaN                            \n",
       "\n",
       "        Wraps, Salad, Food, Juice Bars & Smoothies, Restaurants  \\\n",
       "8                                                     NaN         \n",
       "24                                                    NaN         \n",
       "30                                                    NaN         \n",
       "33                                                    NaN         \n",
       "41                                                    NaN         \n",
       "...                                                   ...         \n",
       "209359                                                NaN         \n",
       "209362                                                NaN         \n",
       "209376                                                NaN         \n",
       "209385                                                NaN         \n",
       "209390                                                NaN         \n",
       "\n",
       "        Wraps, Salad, Restaurants, Food, Juice Bars & Smoothies  \\\n",
       "8                                                     NaN         \n",
       "24                                                    NaN         \n",
       "30                                                    NaN         \n",
       "33                                                    NaN         \n",
       "41                                                    NaN         \n",
       "...                                                   ...         \n",
       "209359                                                NaN         \n",
       "209362                                                NaN         \n",
       "209376                                                NaN         \n",
       "209385                                                NaN         \n",
       "209390                                                NaN         \n",
       "\n",
       "        Wraps, Sandwiches, Restaurants, Salad, Food, Acai Bowls  \n",
       "8                                                     NaN        \n",
       "24                                                    NaN        \n",
       "30                                                    NaN        \n",
       "33                                                    NaN        \n",
       "41                                                    NaN        \n",
       "...                                                   ...        \n",
       "209359                                                NaN        \n",
       "209362                                                NaN        \n",
       "209376                                                NaN        \n",
       "209385                                                NaN        \n",
       "209390                                                NaN        \n",
       "\n",
       "[36875 rows x 22707 columns]"
      ]
     },
     "execution_count": 49,
     "metadata": {},
     "output_type": "execute_result"
    }
   ],
   "source": [
    "y = pd.get_dummies(business.categories.apply(pd.Series).stack()).sum(level = 0)\n",
    "y = y.replace(0, np.NaN)\n",
    "y"
   ]
  },
  {
   "cell_type": "code",
   "execution_count": null,
   "metadata": {},
   "outputs": [],
   "source": [
    "# Avg restaurant rating\n",
    "avg_restaurant_rating = review.groupby('business_id').mean()[['stars']]\n",
    "avg_restaurant_rating.columns = ['avg_rating']\n",
    "business = pd.merge(business, avg_restaurant_rating, how='inner', on=None, \n",
    "                     left_on='business_id', right_on=None,\n",
    "                     left_index=False, right_index=True, sort=True,\n",
    "                     suffixes=('_x', '_y'), copy=True, indicator=False,\n",
    "                     validate=None)"
   ]
  },
  {
   "cell_type": "code",
   "execution_count": null,
   "metadata": {},
   "outputs": [],
   "source": [
    "# One Hot Type Encoding of Business Categories\n",
    "\n",
    "business_categories_df = pd.get_dummies(business.categories.apply(pd.Series).stack()).sum(level=0)\n",
    "business_categories_counts = business_categories_df.sum().sort_values(ascending = False)\n",
    "\n",
    "business_categories_drop = list(business_categories_counts[business_categories_counts < 10].index.values)\n",
    "business_categories_drop.append('Restaurants')\n",
    "business_categories_df.drop(columns = business_categories_drop, inplace = True)\n",
    "\n",
    "business.drop(columns = ['categories'], inplace = True)\n",
    "business = pd.concat([business, business_categories_df], axis=1)\n",
    "\n",
    "business = business[business[business_categories_df.columns].sum(axis = 1) != 0]\n",
    "\n",
    "print(business.columns, business.shape)"
   ]
  },
  {
   "cell_type": "code",
   "execution_count": null,
   "metadata": {},
   "outputs": [],
   "source": [
    "ax = business_categories_df.sum().sort_values(ascending = False)[:20].plot(kind = 'bar', title = 'Most common restaurant categories')\n",
    "ax.set_ylabel(\"Number of restaurants\")\n",
    "ax.set_xlabel(\"Food categories\")"
   ]
  },
  {
   "cell_type": "code",
   "execution_count": null,
   "metadata": {},
   "outputs": [],
   "source": [
    "# Merging dataset\n",
    "\n",
    "alldf = pd.merge(business, review, how='inner', on=None, \n",
    "                     left_on='business_id', right_on='business_id',\n",
    "                     left_index=False, right_index=False, sort=True,\n",
    "                     suffixes=('_business', '_review'), copy=True, indicator=False,\n",
    "                     validate=None)\n",
    "alldf = pd.merge(alldf, user, how='inner', on=None, \n",
    "                     left_on='user_id', right_on='user_id',\n",
    "                     left_index=False, right_index=False, sort=True,\n",
    "                     suffixes=('', '_user'), copy=True, indicator=False,\n",
    "                     validate=None)"
   ]
  },
  {
   "cell_type": "code",
   "execution_count": null,
   "metadata": {},
   "outputs": [],
   "source": [
    "list_col = list(business_categories_df.columns.values)\n",
    "user_cat_matrix = alldf.loc[:, list_col].multiply(alldf.stars_business, axis = 0).replace(0, np.NaN)\n",
    "user_cat_matrix['user_id'] = alldf.user_id\n",
    "user_cat_matrix = user_cat_matrix.groupby('user_id').mean()"
   ]
  },
  {
   "cell_type": "code",
   "execution_count": null,
   "metadata": {},
   "outputs": [],
   "source": [
    "user_cat_matrix.head().replace(np.NaN, 0)"
   ]
  },
  {
   "cell_type": "code",
   "execution_count": null,
   "metadata": {},
   "outputs": [],
   "source": [
    "mu = np.mean(review.stars)\n",
    "mean_user_ratings = review[['user_id', 'stars']].groupby('user_id').mean()\n",
    "mean_business_ratings = review[['business_id', 'stars']].groupby('business_id').mean()"
   ]
  },
  {
   "cell_type": "code",
   "execution_count": null,
   "metadata": {},
   "outputs": [],
   "source": []
  }
 ],
 "metadata": {
  "colab": {
   "name": "256-Yelp_Recommendation.ipynb",
   "provenance": []
  },
  "kernelspec": {
   "display_name": "Python 3",
   "language": "python",
   "name": "python3"
  },
  "language_info": {
   "codemirror_mode": {
    "name": "ipython",
    "version": 3
   },
   "file_extension": ".py",
   "mimetype": "text/x-python",
   "name": "python",
   "nbconvert_exporter": "python",
   "pygments_lexer": "ipython3",
   "version": "3.7.6"
  }
 },
 "nbformat": 4,
 "nbformat_minor": 1
}
