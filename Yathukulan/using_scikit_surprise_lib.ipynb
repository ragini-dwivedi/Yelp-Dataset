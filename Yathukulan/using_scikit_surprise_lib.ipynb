{
  "nbformat": 4,
  "nbformat_minor": 0,
  "metadata": {
    "colab": {
      "name": "using_surprise_lib.ipynb",
      "provenance": [],
      "collapsed_sections": [],
      "toc_visible": true,
      "authorship_tag": "ABX9TyNeqsbBH+epleJ1ZUcCVBu7",
      "include_colab_link": true
    },
    "kernelspec": {
      "name": "python3",
      "display_name": "Python 3"
    }
  },
  "cells": [
    {
      "cell_type": "markdown",
      "metadata": {
        "id": "view-in-github",
        "colab_type": "text"
      },
      "source": [
        "<a href=\"https://colab.research.google.com/github/ragini-dwivedi/Yelp-Dataset/blob/main/Yathukulan/using_scikit_surprise_lib.ipynb\" target=\"_parent\"><img src=\"https://colab.research.google.com/assets/colab-badge.svg\" alt=\"Open In Colab\"/></a>"
      ]
    },
    {
      "cell_type": "markdown",
      "metadata": {
        "id": "896HKq4QaOCu"
      },
      "source": [
        "installing surprise on colab"
      ]
    },
    {
      "cell_type": "code",
      "metadata": {
        "colab": {
          "base_uri": "https://localhost:8080/"
        },
        "id": "R0rWijpfaGoV",
        "outputId": "ff30970d-74f6-47c8-d8d2-57f55c4932ef"
      },
      "source": [
        "!pip install scikit-surprise"
      ],
      "execution_count": 67,
      "outputs": [
        {
          "output_type": "stream",
          "text": [
            "Requirement already satisfied: scikit-surprise in /usr/local/lib/python3.6/dist-packages (1.1.1)\n",
            "Requirement already satisfied: joblib>=0.11 in /usr/local/lib/python3.6/dist-packages (from scikit-surprise) (0.17.0)\n",
            "Requirement already satisfied: scipy>=1.0.0 in /usr/local/lib/python3.6/dist-packages (from scikit-surprise) (1.4.1)\n",
            "Requirement already satisfied: numpy>=1.11.2 in /usr/local/lib/python3.6/dist-packages (from scikit-surprise) (1.18.5)\n",
            "Requirement already satisfied: six>=1.10.0 in /usr/local/lib/python3.6/dist-packages (from scikit-surprise) (1.15.0)\n"
          ],
          "name": "stdout"
        }
      ]
    },
    {
      "cell_type": "code",
      "metadata": {
        "id": "4AYTKsHx004N"
      },
      "source": [
        "import pandas as pd\n",
        "from math import sqrt\n",
        "\n",
        "import matplotlib.pyplot as plt\n",
        "import seaborn as sns\n",
        "\n",
        "from surprise import Reader, Dataset\n",
        "# from surprise import Dataset\n",
        "from surprise.model_selection import cross_validate\n",
        "from surprise import NormalPredictor, BaselineOnly, KNNBasic, KNNWithMeans, KNNWithZScore, KNNBaseline, SVD, SVDpp, NMF, SlopeOne, CoClustering\n",
        "\n",
        "from surprise import accuracy\n",
        "from surprise.accuracy import rmse\n",
        "\n",
        "from surprise.model_selection import train_test_split"
      ],
      "execution_count": 68,
      "outputs": []
    },
    {
      "cell_type": "code",
      "metadata": {
        "colab": {
          "base_uri": "https://localhost:8080/"
        },
        "id": "fe3NhhdH1FA2",
        "outputId": "9fc9a2d5-efa7-4f97-aa98-e3ca19c50e6e"
      },
      "source": [
        "from google.colab import drive\n",
        "drive.mount('/content/drive')"
      ],
      "execution_count": 69,
      "outputs": [
        {
          "output_type": "stream",
          "text": [
            "Drive already mounted at /content/drive; to attempt to forcibly remount, call drive.mount(\"/content/drive\", force_remount=True).\n"
          ],
          "name": "stdout"
        }
      ]
    },
    {
      "cell_type": "code",
      "metadata": {
        "colab": {
          "base_uri": "https://localhost:8080/"
        },
        "id": "ldtTyAtB1Jin",
        "outputId": "d6020017-fd37-4d3e-a7a1-ecda646a810c"
      },
      "source": [
        "cd '/content/drive/Shareddrives/Yelp_dataset/restuarant_reviews/by_city/'"
      ],
      "execution_count": 70,
      "outputs": [
        {
          "output_type": "stream",
          "text": [
            "/content/drive/Shareddrives/Yelp_dataset/restuarant_reviews/by_city\n"
          ],
          "name": "stdout"
        }
      ]
    },
    {
      "cell_type": "code",
      "metadata": {
        "colab": {
          "base_uri": "https://localhost:8080/"
        },
        "id": "ottebZaiIfAJ",
        "outputId": "f986084c-2e5d-4277-ccd5-37f4e4230234"
      },
      "source": [
        "ls"
      ],
      "execution_count": 71,
      "outputs": [
        {
          "output_type": "stream",
          "text": [
            "hashed_reviews_ph.csv                    modelinput_reviews_tr.csv\n",
            "modelinput_phoenix_restaurant_stars.csv  reviews_allcities.csv\n",
            "modelinput_reviews_allcities.csv         reviews_lv.csv\n",
            "modelinput_reviews_lv.csv                reviews_ph.csv\n",
            "modelinput_reviews_ph.csv                reviews_tr.csv\n"
          ],
          "name": "stdout"
        }
      ]
    },
    {
      "cell_type": "code",
      "metadata": {
        "id": "jG09EsHPdwde"
      },
      "source": [
        "def run_all_models (dataset,algos=[SVD(), SVDpp(), SlopeOne(), NMF(), NormalPredictor(), KNNBaseline(), KNNBasic(), KNNWithMeans(), KNNWithZScore(), BaselineOnly(), CoClustering()],measures=['RMSE'] ):\n",
        "  surprise_reader = Reader(rating_scale=(1, 5)) # 1 to 5 rating system\n",
        "  inp = Dataset.load_from_df(dataset[:10000], surprise_reader) #memory overflow crash if rows>10k\n",
        "\n",
        "  performance = []\n",
        "\n",
        "  for each_algo in algos:\n",
        "    results = cross_validate(each_algo, inp, measures=measures, cv=5, verbose=False)\n",
        "\n",
        "    temp = pd.DataFrame.from_dict(results).mean(axis=0)\n",
        "    temp = temp.append(pd.Series([str(each_algo).split(' ')[0].split('.')[-1]], index=['Algorithms']))\n",
        "    performance.append(temp)\n",
        "\n",
        "  to_ret =  pd.DataFrame(performance).set_index('Algorithms')\n",
        "  return to_ret[['test_rmse']]"
      ],
      "execution_count": 148,
      "outputs": []
    },
    {
      "cell_type": "code",
      "metadata": {
        "id": "gYfhyU-sd_Nw"
      },
      "source": [
        "dataset_ph = pd.read_csv('/content/drive/Shareddrives/Yelp_dataset/restuarant_reviews/by_city/modelinput_reviews_ph.csv').sort_values('business_id')\n",
        "dataset_lv = pd.read_csv('/content/drive/Shareddrives/Yelp_dataset/restuarant_reviews/by_city/modelinput_reviews_lv.csv').sort_values('business_id')\n",
        "dataset_tr = pd.read_csv('/content/drive/Shareddrives/Yelp_dataset/restuarant_reviews/by_city/modelinput_reviews_tr.csv').sort_values('business_id')\n",
        "dataset_all = pd.read_csv('/content/drive/Shareddrives/Yelp_dataset/restuarant_reviews/by_city/modelinput_reviews_allcities.csv').sort_values('business_id', ascending=False)"
      ],
      "execution_count": 73,
      "outputs": []
    },
    {
      "cell_type": "code",
      "metadata": {
        "colab": {
          "base_uri": "https://localhost:8080/",
          "height": 402
        },
        "id": "A41S0n5ArMy8",
        "outputId": "bc882641-285c-442a-9052-bf861d731321"
      },
      "source": [
        "dataset_ph"
      ],
      "execution_count": 74,
      "outputs": [
        {
          "output_type": "execute_result",
          "data": {
            "text/html": [
              "<div>\n",
              "<style scoped>\n",
              "    .dataframe tbody tr th:only-of-type {\n",
              "        vertical-align: middle;\n",
              "    }\n",
              "\n",
              "    .dataframe tbody tr th {\n",
              "        vertical-align: top;\n",
              "    }\n",
              "\n",
              "    .dataframe thead th {\n",
              "        text-align: right;\n",
              "    }\n",
              "</style>\n",
              "<table border=\"1\" class=\"dataframe\">\n",
              "  <thead>\n",
              "    <tr style=\"text-align: right;\">\n",
              "      <th></th>\n",
              "      <th>user_id</th>\n",
              "      <th>business_id</th>\n",
              "      <th>stars</th>\n",
              "    </tr>\n",
              "  </thead>\n",
              "  <tbody>\n",
              "    <tr>\n",
              "      <th>83931</th>\n",
              "      <td>28282</td>\n",
              "      <td>0</td>\n",
              "      <td>5</td>\n",
              "    </tr>\n",
              "    <tr>\n",
              "      <th>55027</th>\n",
              "      <td>126205</td>\n",
              "      <td>0</td>\n",
              "      <td>4</td>\n",
              "    </tr>\n",
              "    <tr>\n",
              "      <th>58489</th>\n",
              "      <td>34263</td>\n",
              "      <td>0</td>\n",
              "      <td>5</td>\n",
              "    </tr>\n",
              "    <tr>\n",
              "      <th>50060</th>\n",
              "      <td>142907</td>\n",
              "      <td>0</td>\n",
              "      <td>4</td>\n",
              "    </tr>\n",
              "    <tr>\n",
              "      <th>46757</th>\n",
              "      <td>137869</td>\n",
              "      <td>0</td>\n",
              "      <td>3</td>\n",
              "    </tr>\n",
              "    <tr>\n",
              "      <th>...</th>\n",
              "      <td>...</td>\n",
              "      <td>...</td>\n",
              "      <td>...</td>\n",
              "    </tr>\n",
              "    <tr>\n",
              "      <th>322708</th>\n",
              "      <td>4556</td>\n",
              "      <td>4220</td>\n",
              "      <td>4</td>\n",
              "    </tr>\n",
              "    <tr>\n",
              "      <th>292978</th>\n",
              "      <td>144919</td>\n",
              "      <td>4220</td>\n",
              "      <td>5</td>\n",
              "    </tr>\n",
              "    <tr>\n",
              "      <th>294573</th>\n",
              "      <td>125897</td>\n",
              "      <td>4220</td>\n",
              "      <td>2</td>\n",
              "    </tr>\n",
              "    <tr>\n",
              "      <th>300853</th>\n",
              "      <td>105701</td>\n",
              "      <td>4220</td>\n",
              "      <td>5</td>\n",
              "    </tr>\n",
              "    <tr>\n",
              "      <th>306514</th>\n",
              "      <td>173971</td>\n",
              "      <td>4220</td>\n",
              "      <td>3</td>\n",
              "    </tr>\n",
              "  </tbody>\n",
              "</table>\n",
              "<p>511055 rows × 3 columns</p>\n",
              "</div>"
            ],
            "text/plain": [
              "        user_id  business_id  stars\n",
              "83931     28282            0      5\n",
              "55027    126205            0      4\n",
              "58489     34263            0      5\n",
              "50060    142907            0      4\n",
              "46757    137869            0      3\n",
              "...         ...          ...    ...\n",
              "322708     4556         4220      4\n",
              "292978   144919         4220      5\n",
              "294573   125897         4220      2\n",
              "300853   105701         4220      5\n",
              "306514   173971         4220      3\n",
              "\n",
              "[511055 rows x 3 columns]"
            ]
          },
          "metadata": {
            "tags": []
          },
          "execution_count": 74
        }
      ]
    },
    {
      "cell_type": "code",
      "metadata": {
        "colab": {
          "base_uri": "https://localhost:8080/"
        },
        "id": "HsqqA4xwpIWr",
        "outputId": "a0ef5f12-0a59-4898-acd3-6d9fee2dce4a"
      },
      "source": [
        "dataset_ph.shape\n"
      ],
      "execution_count": 75,
      "outputs": [
        {
          "output_type": "execute_result",
          "data": {
            "text/plain": [
              "(511055, 3)"
            ]
          },
          "metadata": {
            "tags": []
          },
          "execution_count": 75
        }
      ]
    },
    {
      "cell_type": "code",
      "metadata": {
        "id": "npKxKz8pqw_v"
      },
      "source": [
        "new_algos = [SVD(), KNNBaseline(), BaselineOnly(), KNNBasic(),  SlopeOne(), CoClustering(), NMF(), NormalPredictor() ]"
      ],
      "execution_count": 76,
      "outputs": []
    },
    {
      "cell_type": "code",
      "metadata": {
        "colab": {
          "base_uri": "https://localhost:8080/"
        },
        "id": "SzzjC2kCenwA",
        "outputId": "b1121cdb-bfe1-4090-c053-23c0dfc87aac"
      },
      "source": [
        "performance_ph = run_all_models(dataset_ph,new_algos)"
      ],
      "execution_count": 77,
      "outputs": [
        {
          "output_type": "stream",
          "text": [
            "Estimating biases using als...\n",
            "Computing the msd similarity matrix...\n",
            "Done computing similarity matrix.\n",
            "Estimating biases using als...\n",
            "Computing the msd similarity matrix...\n",
            "Done computing similarity matrix.\n",
            "Estimating biases using als...\n",
            "Computing the msd similarity matrix...\n",
            "Done computing similarity matrix.\n",
            "Estimating biases using als...\n",
            "Computing the msd similarity matrix...\n",
            "Done computing similarity matrix.\n",
            "Estimating biases using als...\n",
            "Computing the msd similarity matrix...\n",
            "Done computing similarity matrix.\n",
            "Estimating biases using als...\n",
            "Estimating biases using als...\n",
            "Estimating biases using als...\n",
            "Estimating biases using als...\n",
            "Estimating biases using als...\n",
            "Computing the msd similarity matrix...\n",
            "Done computing similarity matrix.\n",
            "Computing the msd similarity matrix...\n",
            "Done computing similarity matrix.\n",
            "Computing the msd similarity matrix...\n",
            "Done computing similarity matrix.\n",
            "Computing the msd similarity matrix...\n",
            "Done computing similarity matrix.\n",
            "Computing the msd similarity matrix...\n",
            "Done computing similarity matrix.\n"
          ],
          "name": "stdout"
        }
      ]
    },
    {
      "cell_type": "code",
      "metadata": {
        "colab": {
          "base_uri": "https://localhost:8080/"
        },
        "id": "4KiUcCu3etl7",
        "outputId": "afc73911-82ce-4289-e8fe-4b06b0501f81"
      },
      "source": [
        "performance_lv = run_all_models(dataset_lv,new_algos)"
      ],
      "execution_count": 78,
      "outputs": [
        {
          "output_type": "stream",
          "text": [
            "Estimating biases using als...\n",
            "Computing the msd similarity matrix...\n",
            "Done computing similarity matrix.\n",
            "Estimating biases using als...\n",
            "Computing the msd similarity matrix...\n",
            "Done computing similarity matrix.\n",
            "Estimating biases using als...\n",
            "Computing the msd similarity matrix...\n",
            "Done computing similarity matrix.\n",
            "Estimating biases using als...\n",
            "Computing the msd similarity matrix...\n",
            "Done computing similarity matrix.\n",
            "Estimating biases using als...\n",
            "Computing the msd similarity matrix...\n",
            "Done computing similarity matrix.\n",
            "Estimating biases using als...\n",
            "Estimating biases using als...\n",
            "Estimating biases using als...\n",
            "Estimating biases using als...\n",
            "Estimating biases using als...\n",
            "Computing the msd similarity matrix...\n",
            "Done computing similarity matrix.\n",
            "Computing the msd similarity matrix...\n",
            "Done computing similarity matrix.\n",
            "Computing the msd similarity matrix...\n",
            "Done computing similarity matrix.\n",
            "Computing the msd similarity matrix...\n",
            "Done computing similarity matrix.\n",
            "Computing the msd similarity matrix...\n",
            "Done computing similarity matrix.\n"
          ],
          "name": "stdout"
        }
      ]
    },
    {
      "cell_type": "code",
      "metadata": {
        "colab": {
          "base_uri": "https://localhost:8080/"
        },
        "id": "Zk3lJYw4ruiL",
        "outputId": "f4734966-8c11-4683-b66b-071674987c58"
      },
      "source": [
        "performance_tr = run_all_models(dataset_tr,new_algos)"
      ],
      "execution_count": 79,
      "outputs": [
        {
          "output_type": "stream",
          "text": [
            "Estimating biases using als...\n",
            "Computing the msd similarity matrix...\n",
            "Done computing similarity matrix.\n",
            "Estimating biases using als...\n",
            "Computing the msd similarity matrix...\n",
            "Done computing similarity matrix.\n",
            "Estimating biases using als...\n",
            "Computing the msd similarity matrix...\n",
            "Done computing similarity matrix.\n",
            "Estimating biases using als...\n",
            "Computing the msd similarity matrix...\n",
            "Done computing similarity matrix.\n",
            "Estimating biases using als...\n",
            "Computing the msd similarity matrix...\n",
            "Done computing similarity matrix.\n",
            "Estimating biases using als...\n",
            "Estimating biases using als...\n",
            "Estimating biases using als...\n",
            "Estimating biases using als...\n",
            "Estimating biases using als...\n",
            "Computing the msd similarity matrix...\n",
            "Done computing similarity matrix.\n",
            "Computing the msd similarity matrix...\n",
            "Done computing similarity matrix.\n",
            "Computing the msd similarity matrix...\n",
            "Done computing similarity matrix.\n",
            "Computing the msd similarity matrix...\n",
            "Done computing similarity matrix.\n",
            "Computing the msd similarity matrix...\n",
            "Done computing similarity matrix.\n"
          ],
          "name": "stdout"
        }
      ]
    },
    {
      "cell_type": "code",
      "metadata": {
        "colab": {
          "base_uri": "https://localhost:8080/"
        },
        "id": "DOjERArKrvME",
        "outputId": "f152c69c-1be2-4f78-a88d-fd039dabcb72"
      },
      "source": [
        "performance_all = run_all_models(dataset_all,new_algos)"
      ],
      "execution_count": 80,
      "outputs": [
        {
          "output_type": "stream",
          "text": [
            "Estimating biases using als...\n",
            "Computing the msd similarity matrix...\n",
            "Done computing similarity matrix.\n",
            "Estimating biases using als...\n",
            "Computing the msd similarity matrix...\n",
            "Done computing similarity matrix.\n",
            "Estimating biases using als...\n",
            "Computing the msd similarity matrix...\n",
            "Done computing similarity matrix.\n",
            "Estimating biases using als...\n",
            "Computing the msd similarity matrix...\n",
            "Done computing similarity matrix.\n",
            "Estimating biases using als...\n",
            "Computing the msd similarity matrix...\n",
            "Done computing similarity matrix.\n",
            "Estimating biases using als...\n",
            "Estimating biases using als...\n",
            "Estimating biases using als...\n",
            "Estimating biases using als...\n",
            "Estimating biases using als...\n",
            "Computing the msd similarity matrix...\n",
            "Done computing similarity matrix.\n",
            "Computing the msd similarity matrix...\n",
            "Done computing similarity matrix.\n",
            "Computing the msd similarity matrix...\n",
            "Done computing similarity matrix.\n",
            "Computing the msd similarity matrix...\n",
            "Done computing similarity matrix.\n",
            "Computing the msd similarity matrix...\n",
            "Done computing similarity matrix.\n"
          ],
          "name": "stdout"
        }
      ]
    },
    {
      "cell_type": "code",
      "metadata": {
        "colab": {
          "base_uri": "https://localhost:8080/",
          "height": 314
        },
        "id": "xO1dONBymuZt",
        "outputId": "710643a9-0e09-40d4-b323-9f85efc62181"
      },
      "source": [
        "rmse_perf = performance_ph.copy()\n",
        "rmse_perf.rename(columns={\"test_rmse\": \"Phoenix\"},inplace=True)\n",
        "rmse_perf"
      ],
      "execution_count": 81,
      "outputs": [
        {
          "output_type": "execute_result",
          "data": {
            "text/html": [
              "<div>\n",
              "<style scoped>\n",
              "    .dataframe tbody tr th:only-of-type {\n",
              "        vertical-align: middle;\n",
              "    }\n",
              "\n",
              "    .dataframe tbody tr th {\n",
              "        vertical-align: top;\n",
              "    }\n",
              "\n",
              "    .dataframe thead th {\n",
              "        text-align: right;\n",
              "    }\n",
              "</style>\n",
              "<table border=\"1\" class=\"dataframe\">\n",
              "  <thead>\n",
              "    <tr style=\"text-align: right;\">\n",
              "      <th></th>\n",
              "      <th>Phoenix</th>\n",
              "    </tr>\n",
              "    <tr>\n",
              "      <th>Algorithms</th>\n",
              "      <th></th>\n",
              "    </tr>\n",
              "  </thead>\n",
              "  <tbody>\n",
              "    <tr>\n",
              "      <th>SVD</th>\n",
              "      <td>1.251315</td>\n",
              "    </tr>\n",
              "    <tr>\n",
              "      <th>KNNBaseline</th>\n",
              "      <td>1.277484</td>\n",
              "    </tr>\n",
              "    <tr>\n",
              "      <th>BaselineOnly</th>\n",
              "      <td>1.248602</td>\n",
              "    </tr>\n",
              "    <tr>\n",
              "      <th>KNNBasic</th>\n",
              "      <td>1.361029</td>\n",
              "    </tr>\n",
              "    <tr>\n",
              "      <th>SlopeOne</th>\n",
              "      <td>1.393185</td>\n",
              "    </tr>\n",
              "    <tr>\n",
              "      <th>CoClustering</th>\n",
              "      <td>1.383370</td>\n",
              "    </tr>\n",
              "    <tr>\n",
              "      <th>NMF</th>\n",
              "      <td>1.399734</td>\n",
              "    </tr>\n",
              "    <tr>\n",
              "      <th>NormalPredictor</th>\n",
              "      <td>1.762925</td>\n",
              "    </tr>\n",
              "  </tbody>\n",
              "</table>\n",
              "</div>"
            ],
            "text/plain": [
              "                  Phoenix\n",
              "Algorithms               \n",
              "SVD              1.251315\n",
              "KNNBaseline      1.277484\n",
              "BaselineOnly     1.248602\n",
              "KNNBasic         1.361029\n",
              "SlopeOne         1.393185\n",
              "CoClustering     1.383370\n",
              "NMF              1.399734\n",
              "NormalPredictor  1.762925"
            ]
          },
          "metadata": {
            "tags": []
          },
          "execution_count": 81
        }
      ]
    },
    {
      "cell_type": "code",
      "metadata": {
        "colab": {
          "base_uri": "https://localhost:8080/",
          "height": 314
        },
        "id": "_IM0nN4us8tg",
        "outputId": "a8680cc2-a06e-439a-8128-e5b12c83fcb0"
      },
      "source": [
        "rmse_perf['Toronto'] =performance_tr['test_rmse']\n",
        "rmse_perf['Las Vegas'] =performance_lv['test_rmse']\n",
        "rmse_perf['All'] =performance_all['test_rmse']\n",
        "rmse_perf"
      ],
      "execution_count": 82,
      "outputs": [
        {
          "output_type": "execute_result",
          "data": {
            "text/html": [
              "<div>\n",
              "<style scoped>\n",
              "    .dataframe tbody tr th:only-of-type {\n",
              "        vertical-align: middle;\n",
              "    }\n",
              "\n",
              "    .dataframe tbody tr th {\n",
              "        vertical-align: top;\n",
              "    }\n",
              "\n",
              "    .dataframe thead th {\n",
              "        text-align: right;\n",
              "    }\n",
              "</style>\n",
              "<table border=\"1\" class=\"dataframe\">\n",
              "  <thead>\n",
              "    <tr style=\"text-align: right;\">\n",
              "      <th></th>\n",
              "      <th>Phoenix</th>\n",
              "      <th>Toronto</th>\n",
              "      <th>Las Vegas</th>\n",
              "      <th>All</th>\n",
              "    </tr>\n",
              "    <tr>\n",
              "      <th>Algorithms</th>\n",
              "      <th></th>\n",
              "      <th></th>\n",
              "      <th></th>\n",
              "      <th></th>\n",
              "    </tr>\n",
              "  </thead>\n",
              "  <tbody>\n",
              "    <tr>\n",
              "      <th>SVD</th>\n",
              "      <td>1.251315</td>\n",
              "      <td>1.167982</td>\n",
              "      <td>1.240133</td>\n",
              "      <td>1.285574</td>\n",
              "    </tr>\n",
              "    <tr>\n",
              "      <th>KNNBaseline</th>\n",
              "      <td>1.277484</td>\n",
              "      <td>1.197250</td>\n",
              "      <td>1.256531</td>\n",
              "      <td>1.298270</td>\n",
              "    </tr>\n",
              "    <tr>\n",
              "      <th>BaselineOnly</th>\n",
              "      <td>1.248602</td>\n",
              "      <td>1.166532</td>\n",
              "      <td>1.239987</td>\n",
              "      <td>1.292188</td>\n",
              "    </tr>\n",
              "    <tr>\n",
              "      <th>KNNBasic</th>\n",
              "      <td>1.361029</td>\n",
              "      <td>1.257394</td>\n",
              "      <td>1.328934</td>\n",
              "      <td>1.402572</td>\n",
              "    </tr>\n",
              "    <tr>\n",
              "      <th>SlopeOne</th>\n",
              "      <td>1.393185</td>\n",
              "      <td>1.323482</td>\n",
              "      <td>1.355343</td>\n",
              "      <td>1.413387</td>\n",
              "    </tr>\n",
              "    <tr>\n",
              "      <th>CoClustering</th>\n",
              "      <td>1.383370</td>\n",
              "      <td>1.301124</td>\n",
              "      <td>1.350259</td>\n",
              "      <td>1.413631</td>\n",
              "    </tr>\n",
              "    <tr>\n",
              "      <th>NMF</th>\n",
              "      <td>1.399734</td>\n",
              "      <td>1.307556</td>\n",
              "      <td>1.353372</td>\n",
              "      <td>1.409994</td>\n",
              "    </tr>\n",
              "    <tr>\n",
              "      <th>NormalPredictor</th>\n",
              "      <td>1.762925</td>\n",
              "      <td>1.647980</td>\n",
              "      <td>1.725914</td>\n",
              "      <td>1.822825</td>\n",
              "    </tr>\n",
              "  </tbody>\n",
              "</table>\n",
              "</div>"
            ],
            "text/plain": [
              "                  Phoenix   Toronto  Las Vegas       All\n",
              "Algorithms                                              \n",
              "SVD              1.251315  1.167982   1.240133  1.285574\n",
              "KNNBaseline      1.277484  1.197250   1.256531  1.298270\n",
              "BaselineOnly     1.248602  1.166532   1.239987  1.292188\n",
              "KNNBasic         1.361029  1.257394   1.328934  1.402572\n",
              "SlopeOne         1.393185  1.323482   1.355343  1.413387\n",
              "CoClustering     1.383370  1.301124   1.350259  1.413631\n",
              "NMF              1.399734  1.307556   1.353372  1.409994\n",
              "NormalPredictor  1.762925  1.647980   1.725914  1.822825"
            ]
          },
          "metadata": {
            "tags": []
          },
          "execution_count": 82
        }
      ]
    },
    {
      "cell_type": "code",
      "metadata": {
        "colab": {
          "base_uri": "https://localhost:8080/",
          "height": 314
        },
        "id": "OxZVG9RruJUT",
        "outputId": "72634c80-8cd2-4c4a-eb74-d4425ba75e40"
      },
      "source": [
        "rmse_perf.sort_values('All')"
      ],
      "execution_count": 83,
      "outputs": [
        {
          "output_type": "execute_result",
          "data": {
            "text/html": [
              "<div>\n",
              "<style scoped>\n",
              "    .dataframe tbody tr th:only-of-type {\n",
              "        vertical-align: middle;\n",
              "    }\n",
              "\n",
              "    .dataframe tbody tr th {\n",
              "        vertical-align: top;\n",
              "    }\n",
              "\n",
              "    .dataframe thead th {\n",
              "        text-align: right;\n",
              "    }\n",
              "</style>\n",
              "<table border=\"1\" class=\"dataframe\">\n",
              "  <thead>\n",
              "    <tr style=\"text-align: right;\">\n",
              "      <th></th>\n",
              "      <th>Phoenix</th>\n",
              "      <th>Toronto</th>\n",
              "      <th>Las Vegas</th>\n",
              "      <th>All</th>\n",
              "    </tr>\n",
              "    <tr>\n",
              "      <th>Algorithms</th>\n",
              "      <th></th>\n",
              "      <th></th>\n",
              "      <th></th>\n",
              "      <th></th>\n",
              "    </tr>\n",
              "  </thead>\n",
              "  <tbody>\n",
              "    <tr>\n",
              "      <th>SVD</th>\n",
              "      <td>1.251315</td>\n",
              "      <td>1.167982</td>\n",
              "      <td>1.240133</td>\n",
              "      <td>1.285574</td>\n",
              "    </tr>\n",
              "    <tr>\n",
              "      <th>BaselineOnly</th>\n",
              "      <td>1.248602</td>\n",
              "      <td>1.166532</td>\n",
              "      <td>1.239987</td>\n",
              "      <td>1.292188</td>\n",
              "    </tr>\n",
              "    <tr>\n",
              "      <th>KNNBaseline</th>\n",
              "      <td>1.277484</td>\n",
              "      <td>1.197250</td>\n",
              "      <td>1.256531</td>\n",
              "      <td>1.298270</td>\n",
              "    </tr>\n",
              "    <tr>\n",
              "      <th>KNNBasic</th>\n",
              "      <td>1.361029</td>\n",
              "      <td>1.257394</td>\n",
              "      <td>1.328934</td>\n",
              "      <td>1.402572</td>\n",
              "    </tr>\n",
              "    <tr>\n",
              "      <th>NMF</th>\n",
              "      <td>1.399734</td>\n",
              "      <td>1.307556</td>\n",
              "      <td>1.353372</td>\n",
              "      <td>1.409994</td>\n",
              "    </tr>\n",
              "    <tr>\n",
              "      <th>SlopeOne</th>\n",
              "      <td>1.393185</td>\n",
              "      <td>1.323482</td>\n",
              "      <td>1.355343</td>\n",
              "      <td>1.413387</td>\n",
              "    </tr>\n",
              "    <tr>\n",
              "      <th>CoClustering</th>\n",
              "      <td>1.383370</td>\n",
              "      <td>1.301124</td>\n",
              "      <td>1.350259</td>\n",
              "      <td>1.413631</td>\n",
              "    </tr>\n",
              "    <tr>\n",
              "      <th>NormalPredictor</th>\n",
              "      <td>1.762925</td>\n",
              "      <td>1.647980</td>\n",
              "      <td>1.725914</td>\n",
              "      <td>1.822825</td>\n",
              "    </tr>\n",
              "  </tbody>\n",
              "</table>\n",
              "</div>"
            ],
            "text/plain": [
              "                  Phoenix   Toronto  Las Vegas       All\n",
              "Algorithms                                              \n",
              "SVD              1.251315  1.167982   1.240133  1.285574\n",
              "BaselineOnly     1.248602  1.166532   1.239987  1.292188\n",
              "KNNBaseline      1.277484  1.197250   1.256531  1.298270\n",
              "KNNBasic         1.361029  1.257394   1.328934  1.402572\n",
              "NMF              1.399734  1.307556   1.353372  1.409994\n",
              "SlopeOne         1.393185  1.323482   1.355343  1.413387\n",
              "CoClustering     1.383370  1.301124   1.350259  1.413631\n",
              "NormalPredictor  1.762925  1.647980   1.725914  1.822825"
            ]
          },
          "metadata": {
            "tags": []
          },
          "execution_count": 83
        }
      ]
    },
    {
      "cell_type": "code",
      "metadata": {
        "colab": {
          "base_uri": "https://localhost:8080/",
          "height": 745
        },
        "id": "EGkBBcacvJM5",
        "outputId": "5ffb68de-05e9-4393-b2bb-e861adc220b1"
      },
      "source": [
        "plt.figure(figsize=(10,10))\n",
        "sns.set(style=\"whitegrid\")\n",
        "ax = sns.heatmap(rmse_perf,cmap='rocket_r',annot=True)\n",
        "plt.xticks(rotation=90, fontsize=20)\n",
        "plt.yticks(fontsize=20)\n",
        "plt.title('RMSE of models for subsets', fontsize=20)\n",
        "plt.xlabel('Cities',fontsize=20)\n",
        "plt.ylabel('Algorithms',fontsize=20)"
      ],
      "execution_count": 157,
      "outputs": [
        {
          "output_type": "execute_result",
          "data": {
            "text/plain": [
              "Text(66.5, 0.5, 'Algorithms')"
            ]
          },
          "metadata": {
            "tags": []
          },
          "execution_count": 157
        },
        {
          "output_type": "display_data",
          "data": {
            "image/png": "[encoded data removed]",
            "text/plain": [
              "<Figure size 720x720 with 2 Axes>"
            ]
          },
          "metadata": {
            "tags": []
          }
        }
      ]
    },
    {
      "cell_type": "code",
      "metadata": {
        "colab": {
          "base_uri": "https://localhost:8080/"
        },
        "id": "M0hd9Cjxzjlp",
        "outputId": "4cd3587f-4eb0-4f84-dd68-a89c01bfcaad"
      },
      "source": [
        "performance_all_allmodels = run_all_models(dataset_all)"
      ],
      "execution_count": 134,
      "outputs": [
        {
          "output_type": "stream",
          "text": [
            "Estimating biases using als...\n",
            "Computing the msd similarity matrix...\n",
            "Done computing similarity matrix.\n",
            "Estimating biases using als...\n",
            "Computing the msd similarity matrix...\n",
            "Done computing similarity matrix.\n",
            "Estimating biases using als...\n",
            "Computing the msd similarity matrix...\n",
            "Done computing similarity matrix.\n",
            "Estimating biases using als...\n",
            "Computing the msd similarity matrix...\n",
            "Done computing similarity matrix.\n",
            "Estimating biases using als...\n",
            "Computing the msd similarity matrix...\n",
            "Done computing similarity matrix.\n",
            "Computing the msd similarity matrix...\n",
            "Done computing similarity matrix.\n",
            "Computing the msd similarity matrix...\n",
            "Done computing similarity matrix.\n",
            "Computing the msd similarity matrix...\n",
            "Done computing similarity matrix.\n",
            "Computing the msd similarity matrix...\n",
            "Done computing similarity matrix.\n",
            "Computing the msd similarity matrix...\n",
            "Done computing similarity matrix.\n",
            "Computing the msd similarity matrix...\n",
            "Done computing similarity matrix.\n",
            "Computing the msd similarity matrix...\n",
            "Done computing similarity matrix.\n",
            "Computing the msd similarity matrix...\n",
            "Done computing similarity matrix.\n",
            "Computing the msd similarity matrix...\n",
            "Done computing similarity matrix.\n",
            "Computing the msd similarity matrix...\n",
            "Done computing similarity matrix.\n",
            "Computing the msd similarity matrix...\n",
            "Done computing similarity matrix.\n",
            "Computing the msd similarity matrix...\n",
            "Done computing similarity matrix.\n",
            "Computing the msd similarity matrix...\n",
            "Done computing similarity matrix.\n",
            "Computing the msd similarity matrix...\n",
            "Done computing similarity matrix.\n",
            "Computing the msd similarity matrix...\n",
            "Done computing similarity matrix.\n",
            "Estimating biases using als...\n",
            "Estimating biases using als...\n",
            "Estimating biases using als...\n",
            "Estimating biases using als...\n",
            "Estimating biases using als...\n"
          ],
          "name": "stdout"
        }
      ]
    },
    {
      "cell_type": "code",
      "metadata": {
        "colab": {
          "base_uri": "https://localhost:8080/",
          "height": 402
        },
        "id": "zbYyOUWi0H5q",
        "outputId": "22b7a485-7100-458e-ca2c-4deebff998df"
      },
      "source": [
        "#performance_all_allmodels.reset_index(inplace=True)\n",
        "performance_all_allmodels"
      ],
      "execution_count": 135,
      "outputs": [
        {
          "output_type": "execute_result",
          "data": {
            "text/html": [
              "<div>\n",
              "<style scoped>\n",
              "    .dataframe tbody tr th:only-of-type {\n",
              "        vertical-align: middle;\n",
              "    }\n",
              "\n",
              "    .dataframe tbody tr th {\n",
              "        vertical-align: top;\n",
              "    }\n",
              "\n",
              "    .dataframe thead th {\n",
              "        text-align: right;\n",
              "    }\n",
              "</style>\n",
              "<table border=\"1\" class=\"dataframe\">\n",
              "  <thead>\n",
              "    <tr style=\"text-align: right;\">\n",
              "      <th></th>\n",
              "      <th>test_rmse</th>\n",
              "    </tr>\n",
              "    <tr>\n",
              "      <th>Algorithms</th>\n",
              "      <th></th>\n",
              "    </tr>\n",
              "  </thead>\n",
              "  <tbody>\n",
              "    <tr>\n",
              "      <th>SVD</th>\n",
              "      <td>1.283127</td>\n",
              "    </tr>\n",
              "    <tr>\n",
              "      <th>SVDpp</th>\n",
              "      <td>1.300129</td>\n",
              "    </tr>\n",
              "    <tr>\n",
              "      <th>SlopeOne</th>\n",
              "      <td>1.418207</td>\n",
              "    </tr>\n",
              "    <tr>\n",
              "      <th>NMF</th>\n",
              "      <td>1.410936</td>\n",
              "    </tr>\n",
              "    <tr>\n",
              "      <th>NormalPredictor</th>\n",
              "      <td>1.829063</td>\n",
              "    </tr>\n",
              "    <tr>\n",
              "      <th>KNNBaseline</th>\n",
              "      <td>1.294304</td>\n",
              "    </tr>\n",
              "    <tr>\n",
              "      <th>KNNBasic</th>\n",
              "      <td>1.402846</td>\n",
              "    </tr>\n",
              "    <tr>\n",
              "      <th>KNNWithMeans</th>\n",
              "      <td>1.414676</td>\n",
              "    </tr>\n",
              "    <tr>\n",
              "      <th>KNNWithZScore</th>\n",
              "      <td>1.417027</td>\n",
              "    </tr>\n",
              "    <tr>\n",
              "      <th>BaselineOnly</th>\n",
              "      <td>1.292614</td>\n",
              "    </tr>\n",
              "    <tr>\n",
              "      <th>CoClustering</th>\n",
              "      <td>1.418964</td>\n",
              "    </tr>\n",
              "  </tbody>\n",
              "</table>\n",
              "</div>"
            ],
            "text/plain": [
              "                 test_rmse\n",
              "Algorithms                \n",
              "SVD               1.283127\n",
              "SVDpp             1.300129\n",
              "SlopeOne          1.418207\n",
              "NMF               1.410936\n",
              "NormalPredictor   1.829063\n",
              "KNNBaseline       1.294304\n",
              "KNNBasic          1.402846\n",
              "KNNWithMeans      1.414676\n",
              "KNNWithZScore     1.417027\n",
              "BaselineOnly      1.292614\n",
              "CoClustering      1.418964"
            ]
          },
          "metadata": {
            "tags": []
          },
          "execution_count": 135
        }
      ]
    },
    {
      "cell_type": "code",
      "metadata": {
        "id": "8VTKba5J1u1j"
      },
      "source": [
        "performance_all_allmodels = performance_all_allmodels.sort_values('test_rmse').reset_index()"
      ],
      "execution_count": 142,
      "outputs": []
    },
    {
      "cell_type": "code",
      "metadata": {
        "colab": {
          "base_uri": "https://localhost:8080/",
          "height": 285
        },
        "id": "1TVi6Vd91Qwz",
        "outputId": "99f3966c-57dc-444c-fabb-2b2ec328d5af"
      },
      "source": [
        "plt.bar(performance_all_allmodels['Algorithms'],performance_all_allmodels['test_rmse'])"
      ],
      "execution_count": 143,
      "outputs": [
        {
          "output_type": "execute_result",
          "data": {
            "text/plain": [
              "<BarContainer object of 11 artists>"
            ]
          },
          "metadata": {
            "tags": []
          },
          "execution_count": 143
        },
        {
          "output_type": "display_data",
          "data": {
            "image/png": "[encoded data removed]",
            "text/plain": [
              "<Figure size 432x288 with 1 Axes>"
            ]
          },
          "metadata": {
            "tags": []
          }
        }
      ]
    },
    {
      "cell_type": "code",
      "metadata": {
        "colab": {
          "base_uri": "https://localhost:8080/"
        },
        "id": "HRazwlcX0pV1",
        "outputId": "c06b95be-73a0-42ed-c3ec-1a2e5addac68"
      },
      "source": [
        "performance_all_allmodels['test_rmse']"
      ],
      "execution_count": 144,
      "outputs": [
        {
          "output_type": "execute_result",
          "data": {
            "text/plain": [
              "0     1.283127\n",
              "1     1.292614\n",
              "2     1.294304\n",
              "3     1.300129\n",
              "4     1.402846\n",
              "5     1.410936\n",
              "6     1.414676\n",
              "7     1.417027\n",
              "8     1.418207\n",
              "9     1.418964\n",
              "10    1.829063\n",
              "Name: test_rmse, dtype: float64"
            ]
          },
          "metadata": {
            "tags": []
          },
          "execution_count": 144
        }
      ]
    },
    {
      "cell_type": "code",
      "metadata": {
        "id": "iMlTMY6X0iyO"
      },
      "source": [
        ""
      ],
      "execution_count": 144,
      "outputs": []
    },
    {
      "cell_type": "code",
      "metadata": {
        "colab": {
          "base_uri": "https://localhost:8080/",
          "height": 162
        },
        "id": "OuBWnbWG0PIE",
        "outputId": "16c1d638-c925-492c-f163-386e28e05f37"
      },
      "source": [
        "plt.bar(performance_all_allmodels['test_rmse'])"
      ],
      "execution_count": 145,
      "outputs": [
        {
          "output_type": "error",
          "ename": "TypeError",
          "evalue": "ignored",
          "traceback": [
            "\u001b[0;31m---------------------------------------------------------------------------\u001b[0m",
            "\u001b[0;31mTypeError\u001b[0m                                 Traceback (most recent call last)",
            "\u001b[0;32m<ipython-input-145-d8492afe9ac2>\u001b[0m in \u001b[0;36m<module>\u001b[0;34m()\u001b[0m\n\u001b[0;32m----> 1\u001b[0;31m \u001b[0mplt\u001b[0m\u001b[0;34m.\u001b[0m\u001b[0mbar\u001b[0m\u001b[0;34m(\u001b[0m\u001b[0mperformance_all_allmodels\u001b[0m\u001b[0;34m[\u001b[0m\u001b[0;34m'test_rmse'\u001b[0m\u001b[0;34m]\u001b[0m\u001b[0;34m)\u001b[0m\u001b[0;34m\u001b[0m\u001b[0;34m\u001b[0m\u001b[0m\n\u001b[0m",
            "\u001b[0;31mTypeError\u001b[0m: bar() missing 1 required positional argument: 'height'"
          ]
        }
      ]
    },
    {
      "cell_type": "code",
      "metadata": {
        "colab": {
          "base_uri": "https://localhost:8080/",
          "height": 778
        },
        "id": "zoyxRcjMzt_s",
        "outputId": "c9ad745b-2f5d-465b-9af0-854fef674674"
      },
      "source": [
        "plt.figure(figsize=(8,10))\n",
        "#plt.bar(dataset, RMSE_vals)\n",
        "sns.set(style=\"whitegrid\")\n",
        "sns.barplot(performance_all_allmodels['Algorithms'],performance_all_allmodels['test_rmse'])\n",
        "plt.xticks(rotation=90, fontsize=20)\n",
        "plt.yticks(fontsize=20)\n",
        "plt.title('Model performance on all cities data', fontsize=20)\n",
        "plt.xlabel('Models',fontsize=20)\n",
        "plt.ylabel('RMSE (Root Mean Square Error)',fontsize=20)\n",
        "plt.tight_layout()"
      ],
      "execution_count": 150,
      "outputs": [
        {
          "output_type": "stream",
          "text": [
            "/usr/local/lib/python3.6/dist-packages/seaborn/_decorators.py:43: FutureWarning: Pass the following variables as keyword args: x, y. From version 0.12, the only valid positional argument will be `data`, and passing other arguments without an explicit keyword will result in an error or misinterpretation.\n",
            "  FutureWarning\n"
          ],
          "name": "stderr"
        },
        {
          "output_type": "display_data",
          "data": {
            "image/png": "[encoded data removed]",
            "text/plain": [
              "<Figure size 576x720 with 1 Axes>"
            ]
          },
          "metadata": {
            "tags": []
          }
        }
      ]
    },
    {
      "cell_type": "code",
      "metadata": {
        "id": "3a_Le92o3lfV"
      },
      "source": [
        "def run_all_models_mae (dataset,algos=[SVD(), SVDpp(), SlopeOne(), NMF(), NormalPredictor(), KNNBaseline(), KNNBasic(), KNNWithMeans(), KNNWithZScore(), BaselineOnly(), CoClustering()]):\n",
        "  surprise_reader = Reader(rating_scale=(1, 5)) # 1 to 5 rating system\n",
        "  inp = Dataset.load_from_df(dataset[:10000], surprise_reader) #memory overflow crash if rows>10k\n",
        "\n",
        "  performance = []\n",
        "\n",
        "  for each_algo in algos:\n",
        "    results = cross_validate(each_algo, inp, measures=['MAE'], cv=5, verbose=False)\n",
        "\n",
        "    temp = pd.DataFrame.from_dict(results).mean(axis=0)\n",
        "    temp = temp.append(pd.Series([str(each_algo).split(' ')[0].split('.')[-1]], index=['Algorithms']))\n",
        "    performance.append(temp)\n",
        "\n",
        "  to_ret =  pd.DataFrame(performance).set_index('Algorithms')\n",
        "  return to_ret[['test_mae']]"
      ],
      "execution_count": 151,
      "outputs": []
    },
    {
      "cell_type": "code",
      "metadata": {
        "colab": {
          "base_uri": "https://localhost:8080/"
        },
        "id": "D-kttrMJzNFZ",
        "outputId": "0a7b903d-1155-4382-b31c-9eb1dcae6420"
      },
      "source": [
        "performance_ph_mae = run_all_models_mae(dataset_ph,new_algos)\n",
        "performance_lv_mae = run_all_models_mae(dataset_lv,new_algos)\n",
        "performance_tr_mae = run_all_models_mae(dataset_tr,new_algos)\n",
        "performance_all_mae = run_all_models_mae(dataset_all,new_algos)"
      ],
      "execution_count": 152,
      "outputs": [
        {
          "output_type": "stream",
          "text": [
            "Estimating biases using als...\n",
            "Computing the msd similarity matrix...\n",
            "Done computing similarity matrix.\n",
            "Estimating biases using als...\n",
            "Computing the msd similarity matrix...\n",
            "Done computing similarity matrix.\n",
            "Estimating biases using als...\n",
            "Computing the msd similarity matrix...\n",
            "Done computing similarity matrix.\n",
            "Estimating biases using als...\n",
            "Computing the msd similarity matrix...\n",
            "Done computing similarity matrix.\n",
            "Estimating biases using als...\n",
            "Computing the msd similarity matrix...\n",
            "Done computing similarity matrix.\n",
            "Estimating biases using als...\n",
            "Estimating biases using als...\n",
            "Estimating biases using als...\n",
            "Estimating biases using als...\n",
            "Estimating biases using als...\n",
            "Computing the msd similarity matrix...\n",
            "Done computing similarity matrix.\n",
            "Computing the msd similarity matrix...\n",
            "Done computing similarity matrix.\n",
            "Computing the msd similarity matrix...\n",
            "Done computing similarity matrix.\n",
            "Computing the msd similarity matrix...\n",
            "Done computing similarity matrix.\n",
            "Computing the msd similarity matrix...\n",
            "Done computing similarity matrix.\n",
            "Estimating biases using als...\n",
            "Computing the msd similarity matrix...\n",
            "Done computing similarity matrix.\n",
            "Estimating biases using als...\n",
            "Computing the msd similarity matrix...\n",
            "Done computing similarity matrix.\n",
            "Estimating biases using als...\n",
            "Computing the msd similarity matrix...\n",
            "Done computing similarity matrix.\n",
            "Estimating biases using als...\n",
            "Computing the msd similarity matrix...\n",
            "Done computing similarity matrix.\n",
            "Estimating biases using als...\n",
            "Computing the msd similarity matrix...\n",
            "Done computing similarity matrix.\n",
            "Estimating biases using als...\n",
            "Estimating biases using als...\n",
            "Estimating biases using als...\n",
            "Estimating biases using als...\n",
            "Estimating biases using als...\n",
            "Computing the msd similarity matrix...\n",
            "Done computing similarity matrix.\n",
            "Computing the msd similarity matrix...\n",
            "Done computing similarity matrix.\n",
            "Computing the msd similarity matrix...\n",
            "Done computing similarity matrix.\n",
            "Computing the msd similarity matrix...\n",
            "Done computing similarity matrix.\n",
            "Computing the msd similarity matrix...\n",
            "Done computing similarity matrix.\n",
            "Estimating biases using als...\n",
            "Computing the msd similarity matrix...\n",
            "Done computing similarity matrix.\n",
            "Estimating biases using als...\n",
            "Computing the msd similarity matrix...\n",
            "Done computing similarity matrix.\n",
            "Estimating biases using als...\n",
            "Computing the msd similarity matrix...\n",
            "Done computing similarity matrix.\n",
            "Estimating biases using als...\n",
            "Computing the msd similarity matrix...\n",
            "Done computing similarity matrix.\n",
            "Estimating biases using als...\n",
            "Computing the msd similarity matrix...\n",
            "Done computing similarity matrix.\n",
            "Estimating biases using als...\n",
            "Estimating biases using als...\n",
            "Estimating biases using als...\n",
            "Estimating biases using als...\n",
            "Estimating biases using als...\n",
            "Computing the msd similarity matrix...\n",
            "Done computing similarity matrix.\n",
            "Computing the msd similarity matrix...\n",
            "Done computing similarity matrix.\n",
            "Computing the msd similarity matrix...\n",
            "Done computing similarity matrix.\n",
            "Computing the msd similarity matrix...\n",
            "Done computing similarity matrix.\n",
            "Computing the msd similarity matrix...\n",
            "Done computing similarity matrix.\n",
            "Estimating biases using als...\n",
            "Computing the msd similarity matrix...\n",
            "Done computing similarity matrix.\n",
            "Estimating biases using als...\n",
            "Computing the msd similarity matrix...\n",
            "Done computing similarity matrix.\n",
            "Estimating biases using als...\n",
            "Computing the msd similarity matrix...\n",
            "Done computing similarity matrix.\n",
            "Estimating biases using als...\n",
            "Computing the msd similarity matrix...\n",
            "Done computing similarity matrix.\n",
            "Estimating biases using als...\n",
            "Computing the msd similarity matrix...\n",
            "Done computing similarity matrix.\n",
            "Estimating biases using als...\n",
            "Estimating biases using als...\n",
            "Estimating biases using als...\n",
            "Estimating biases using als...\n",
            "Estimating biases using als...\n",
            "Computing the msd similarity matrix...\n",
            "Done computing similarity matrix.\n",
            "Computing the msd similarity matrix...\n",
            "Done computing similarity matrix.\n",
            "Computing the msd similarity matrix...\n",
            "Done computing similarity matrix.\n",
            "Computing the msd similarity matrix...\n",
            "Done computing similarity matrix.\n",
            "Computing the msd similarity matrix...\n",
            "Done computing similarity matrix.\n"
          ],
          "name": "stdout"
        }
      ]
    },
    {
      "cell_type": "code",
      "metadata": {
        "colab": {
          "base_uri": "https://localhost:8080/",
          "height": 314
        },
        "id": "XgOEQR-h3aZn",
        "outputId": "d5da69b2-684f-456e-e4a9-cc5c3ec0a353"
      },
      "source": [
        "mae_perf = performance_ph_mae.copy()\n",
        "mae_perf.rename(columns={\"test_rmse\": \"Phoenix\"},inplace=True)\n",
        "\n",
        "mae_perf['Toronto'] =performance_tr_mae['test_mae']\n",
        "mae_perf['Las Vegas'] =performance_lv_mae['test_mae']\n",
        "mae_perf['All'] =performance_all_mae['test_mae']\n",
        "mae_perf"
      ],
      "execution_count": 153,
      "outputs": [
        {
          "output_type": "execute_result",
          "data": {
            "text/html": [
              "<div>\n",
              "<style scoped>\n",
              "    .dataframe tbody tr th:only-of-type {\n",
              "        vertical-align: middle;\n",
              "    }\n",
              "\n",
              "    .dataframe tbody tr th {\n",
              "        vertical-align: top;\n",
              "    }\n",
              "\n",
              "    .dataframe thead th {\n",
              "        text-align: right;\n",
              "    }\n",
              "</style>\n",
              "<table border=\"1\" class=\"dataframe\">\n",
              "  <thead>\n",
              "    <tr style=\"text-align: right;\">\n",
              "      <th></th>\n",
              "      <th>test_mae</th>\n",
              "      <th>Toronto</th>\n",
              "      <th>Las Vegas</th>\n",
              "      <th>All</th>\n",
              "    </tr>\n",
              "    <tr>\n",
              "      <th>Algorithms</th>\n",
              "      <th></th>\n",
              "      <th></th>\n",
              "      <th></th>\n",
              "      <th></th>\n",
              "    </tr>\n",
              "  </thead>\n",
              "  <tbody>\n",
              "    <tr>\n",
              "      <th>SVD</th>\n",
              "      <td>1.008946</td>\n",
              "      <td>0.938879</td>\n",
              "      <td>1.001024</td>\n",
              "      <td>1.045911</td>\n",
              "    </tr>\n",
              "    <tr>\n",
              "      <th>KNNBaseline</th>\n",
              "      <td>1.019311</td>\n",
              "      <td>0.958227</td>\n",
              "      <td>0.997801</td>\n",
              "      <td>1.045996</td>\n",
              "    </tr>\n",
              "    <tr>\n",
              "      <th>BaselineOnly</th>\n",
              "      <td>1.009436</td>\n",
              "      <td>0.938374</td>\n",
              "      <td>1.004889</td>\n",
              "      <td>1.057701</td>\n",
              "    </tr>\n",
              "    <tr>\n",
              "      <th>KNNBasic</th>\n",
              "      <td>1.102297</td>\n",
              "      <td>1.031992</td>\n",
              "      <td>1.076528</td>\n",
              "      <td>1.182583</td>\n",
              "    </tr>\n",
              "    <tr>\n",
              "      <th>SlopeOne</th>\n",
              "      <td>1.122165</td>\n",
              "      <td>1.076090</td>\n",
              "      <td>1.092066</td>\n",
              "      <td>1.188244</td>\n",
              "    </tr>\n",
              "    <tr>\n",
              "      <th>CoClustering</th>\n",
              "      <td>1.109806</td>\n",
              "      <td>1.059034</td>\n",
              "      <td>1.094345</td>\n",
              "      <td>1.195236</td>\n",
              "    </tr>\n",
              "    <tr>\n",
              "      <th>NMF</th>\n",
              "      <td>1.139584</td>\n",
              "      <td>1.081116</td>\n",
              "      <td>1.098339</td>\n",
              "      <td>1.190735</td>\n",
              "    </tr>\n",
              "    <tr>\n",
              "      <th>NormalPredictor</th>\n",
              "      <td>1.379136</td>\n",
              "      <td>1.308573</td>\n",
              "      <td>1.359377</td>\n",
              "      <td>1.449050</td>\n",
              "    </tr>\n",
              "  </tbody>\n",
              "</table>\n",
              "</div>"
            ],
            "text/plain": [
              "                 test_mae   Toronto  Las Vegas       All\n",
              "Algorithms                                              \n",
              "SVD              1.008946  0.938879   1.001024  1.045911\n",
              "KNNBaseline      1.019311  0.958227   0.997801  1.045996\n",
              "BaselineOnly     1.009436  0.938374   1.004889  1.057701\n",
              "KNNBasic         1.102297  1.031992   1.076528  1.182583\n",
              "SlopeOne         1.122165  1.076090   1.092066  1.188244\n",
              "CoClustering     1.109806  1.059034   1.094345  1.195236\n",
              "NMF              1.139584  1.081116   1.098339  1.190735\n",
              "NormalPredictor  1.379136  1.308573   1.359377  1.449050"
            ]
          },
          "metadata": {
            "tags": []
          },
          "execution_count": 153
        }
      ]
    },
    {
      "cell_type": "code",
      "metadata": {
        "colab": {
          "base_uri": "https://localhost:8080/",
          "height": 314
        },
        "id": "Jr262QmQ4bYh",
        "outputId": "984fc24b-641a-472d-ffc0-dcffe27b99cb"
      },
      "source": [
        "mae_perf.sort_values('All')"
      ],
      "execution_count": 154,
      "outputs": [
        {
          "output_type": "execute_result",
          "data": {
            "text/html": [
              "<div>\n",
              "<style scoped>\n",
              "    .dataframe tbody tr th:only-of-type {\n",
              "        vertical-align: middle;\n",
              "    }\n",
              "\n",
              "    .dataframe tbody tr th {\n",
              "        vertical-align: top;\n",
              "    }\n",
              "\n",
              "    .dataframe thead th {\n",
              "        text-align: right;\n",
              "    }\n",
              "</style>\n",
              "<table border=\"1\" class=\"dataframe\">\n",
              "  <thead>\n",
              "    <tr style=\"text-align: right;\">\n",
              "      <th></th>\n",
              "      <th>test_mae</th>\n",
              "      <th>Toronto</th>\n",
              "      <th>Las Vegas</th>\n",
              "      <th>All</th>\n",
              "    </tr>\n",
              "    <tr>\n",
              "      <th>Algorithms</th>\n",
              "      <th></th>\n",
              "      <th></th>\n",
              "      <th></th>\n",
              "      <th></th>\n",
              "    </tr>\n",
              "  </thead>\n",
              "  <tbody>\n",
              "    <tr>\n",
              "      <th>SVD</th>\n",
              "      <td>1.008946</td>\n",
              "      <td>0.938879</td>\n",
              "      <td>1.001024</td>\n",
              "      <td>1.045911</td>\n",
              "    </tr>\n",
              "    <tr>\n",
              "      <th>KNNBaseline</th>\n",
              "      <td>1.019311</td>\n",
              "      <td>0.958227</td>\n",
              "      <td>0.997801</td>\n",
              "      <td>1.045996</td>\n",
              "    </tr>\n",
              "    <tr>\n",
              "      <th>BaselineOnly</th>\n",
              "      <td>1.009436</td>\n",
              "      <td>0.938374</td>\n",
              "      <td>1.004889</td>\n",
              "      <td>1.057701</td>\n",
              "    </tr>\n",
              "    <tr>\n",
              "      <th>KNNBasic</th>\n",
              "      <td>1.102297</td>\n",
              "      <td>1.031992</td>\n",
              "      <td>1.076528</td>\n",
              "      <td>1.182583</td>\n",
              "    </tr>\n",
              "    <tr>\n",
              "      <th>SlopeOne</th>\n",
              "      <td>1.122165</td>\n",
              "      <td>1.076090</td>\n",
              "      <td>1.092066</td>\n",
              "      <td>1.188244</td>\n",
              "    </tr>\n",
              "    <tr>\n",
              "      <th>NMF</th>\n",
              "      <td>1.139584</td>\n",
              "      <td>1.081116</td>\n",
              "      <td>1.098339</td>\n",
              "      <td>1.190735</td>\n",
              "    </tr>\n",
              "    <tr>\n",
              "      <th>CoClustering</th>\n",
              "      <td>1.109806</td>\n",
              "      <td>1.059034</td>\n",
              "      <td>1.094345</td>\n",
              "      <td>1.195236</td>\n",
              "    </tr>\n",
              "    <tr>\n",
              "      <th>NormalPredictor</th>\n",
              "      <td>1.379136</td>\n",
              "      <td>1.308573</td>\n",
              "      <td>1.359377</td>\n",
              "      <td>1.449050</td>\n",
              "    </tr>\n",
              "  </tbody>\n",
              "</table>\n",
              "</div>"
            ],
            "text/plain": [
              "                 test_mae   Toronto  Las Vegas       All\n",
              "Algorithms                                              \n",
              "SVD              1.008946  0.938879   1.001024  1.045911\n",
              "KNNBaseline      1.019311  0.958227   0.997801  1.045996\n",
              "BaselineOnly     1.009436  0.938374   1.004889  1.057701\n",
              "KNNBasic         1.102297  1.031992   1.076528  1.182583\n",
              "SlopeOne         1.122165  1.076090   1.092066  1.188244\n",
              "NMF              1.139584  1.081116   1.098339  1.190735\n",
              "CoClustering     1.109806  1.059034   1.094345  1.195236\n",
              "NormalPredictor  1.379136  1.308573   1.359377  1.449050"
            ]
          },
          "metadata": {
            "tags": []
          },
          "execution_count": 154
        }
      ]
    },
    {
      "cell_type": "code",
      "metadata": {
        "colab": {
          "base_uri": "https://localhost:8080/",
          "height": 745
        },
        "id": "Ri68TPVt4hmh",
        "outputId": "bfefb566-ba49-4b20-bb04-69d81764d038"
      },
      "source": [
        "plt.figure(figsize=(10,10))\n",
        "sns.set(style=\"whitegrid\")\n",
        "ax = sns.heatmap(mae_perf,cmap='rocket_r',annot=True)\n",
        "plt.xticks(rotation=90, fontsize=20)\n",
        "plt.yticks(fontsize=20)\n",
        "plt.title('MAE (Mean absolute error) of models for subsets', fontsize=20)\n",
        "plt.xlabel('Cities',fontsize=20)\n",
        "plt.ylabel('Algorithms',fontsize=20)"
      ],
      "execution_count": 156,
      "outputs": [
        {
          "output_type": "execute_result",
          "data": {
            "text/plain": [
              "Text(66.5, 0.5, 'Algorithms')"
            ]
          },
          "metadata": {
            "tags": []
          },
          "execution_count": 156
        },
        {
          "output_type": "display_data",
          "data": {
            "image/png": "[encoded data removed]",
            "text/plain": [
              "<Figure size 720x720 with 2 Axes>"
            ]
          },
          "metadata": {
            "tags": []
          }
        }
      ]
    },
    {
      "cell_type": "code",
      "metadata": {
        "id": "iaScTUugAolL"
      },
      "source": [
        ""
      ],
      "execution_count": null,
      "outputs": []
    }
  ]
}