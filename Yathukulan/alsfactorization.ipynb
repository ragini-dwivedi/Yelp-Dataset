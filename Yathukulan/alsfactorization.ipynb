{
  "nbformat": 4,
  "nbformat_minor": 0,
  "metadata": {
    "colab": {
      "name": "alsfactorization.ipynb",
      "provenance": [],
      "collapsed_sections": [],
      "toc_visible": true,
      "authorship_tag": "ABX9TyMYCseiKEHFkz2RgpDDlvj/",
      "include_colab_link": true
    },
    "kernelspec": {
      "name": "python3",
      "display_name": "Python 3"
    }
  },
  "cells": [
    {
      "cell_type": "markdown",
      "metadata": {
        "id": "view-in-github",
        "colab_type": "text"
      },
      "source": [
        "<a href=\"https://colab.research.google.com/github/ragini-dwivedi/Yelp-Dataset/blob/main/Yathukulan/alsfactorization.ipynb\" target=\"_parent\"><img src=\"https://colab.research.google.com/assets/colab-badge.svg\" alt=\"Open In Colab\"/></a>"
      ]
    },
    {
      "cell_type": "code",
      "metadata": {
        "id": "Q9LTb8lP0txa"
      },
      "source": [
        "!apt-get install openjdk-8-jdk-headless -qq > /dev/null #sets up jdk 8"
      ],
      "execution_count": null,
      "outputs": []
    },
    {
      "cell_type": "code",
      "metadata": {
        "id": "RH84AYwk0uR-"
      },
      "source": [
        "!wget -q https://mirrors.sonic.net/apache/spark/spark-2.4.7/spark-2.4.7-bin-hadoop2.7.tgz #downloads apache spark"
      ],
      "execution_count": null,
      "outputs": []
    },
    {
      "cell_type": "code",
      "metadata": {
        "id": "vDjhabI60vn1"
      },
      "source": [
        "!tar xf spark-2.4.7-bin-hadoop2.7.tgz #unpacks spark files"
      ],
      "execution_count": null,
      "outputs": []
    },
    {
      "cell_type": "code",
      "metadata": {
        "id": "sIPe-du_0wrK"
      },
      "source": [
        "!pip install -q findspark #installs spark"
      ],
      "execution_count": null,
      "outputs": []
    },
    {
      "cell_type": "code",
      "metadata": {
        "id": "cGh0si0S0x0S"
      },
      "source": [
        "#importing OS and setting up the java and spark environments (https://colab.research.google.com/github/asifahmed90/pyspark-ML-in-Colab/blob/master/PySpark_Regression_Analysis.ipynb)\n",
        "import os\n",
        "os.environ[\"JAVA_HOME\"] = \"/usr/lib/jvm/java-8-openjdk-amd64\"\n",
        "os.environ[\"SPARK_HOME\"] = \"/content/spark-2.4.7-bin-hadoop2.7\""
      ],
      "execution_count": null,
      "outputs": []
    },
    {
      "cell_type": "code",
      "metadata": {
        "id": "ejMfUsia0zNZ"
      },
      "source": [
        "#initializing spark\n",
        "import findspark\n",
        "findspark.init()\n",
        "from pyspark.sql import SparkSession\n",
        "spark = SparkSession.builder.master(\"local[*]\").getOrCreate()"
      ],
      "execution_count": null,
      "outputs": []
    },
    {
      "cell_type": "code",
      "metadata": {
        "id": "4AYTKsHx004N"
      },
      "source": [
        "import csv\n",
        "import pandas as pd\n",
        "from math import sqrt\n",
        "\n",
        "import matplotlib.pyplot as plt\n",
        "import seaborn as sns"
      ],
      "execution_count": null,
      "outputs": []
    },
    {
      "cell_type": "code",
      "metadata": {
        "id": "yGKNasyS05bH"
      },
      "source": [
        "from pyspark.mllib.recommendation import ALS, MatrixFactorizationModel, Rating\n",
        " \n",
        "#ml\n",
        "# from pyspark.ml.recommendation import ALS\n",
        "# from pyspark.ml.evaluation import RegressionEvaluator\n",
        "# from pyspark.ml.tuning import CrossValidator,ParamGridBuilder\n",
        "\n",
        "from pyspark import SparkContext"
      ],
      "execution_count": null,
      "outputs": []
    },
    {
      "cell_type": "code",
      "metadata": {
        "colab": {
          "base_uri": "https://localhost:8080/",
          "height": 214
        },
        "id": "DhqCLiaN09pa",
        "outputId": "b96c4a42-46e5-4fa9-c895-e5e428b6489f"
      },
      "source": [
        "spark"
      ],
      "execution_count": null,
      "outputs": [
        {
          "output_type": "execute_result",
          "data": {
            "text/html": [
              "\n",
              "            <div>\n",
              "                <p><b>SparkSession - in-memory</b></p>\n",
              "                \n",
              "        <div>\n",
              "            <p><b>SparkContext</b></p>\n",
              "\n",
              "            <p><a href=\"http://4472c4e155be:4040\">Spark UI</a></p>\n",
              "\n",
              "            <dl>\n",
              "              <dt>Version</dt>\n",
              "                <dd><code>v2.4.7</code></dd>\n",
              "              <dt>Master</dt>\n",
              "                <dd><code>local[*]</code></dd>\n",
              "              <dt>AppName</dt>\n",
              "                <dd><code>pyspark-shell</code></dd>\n",
              "            </dl>\n",
              "        </div>\n",
              "        \n",
              "            </div>\n",
              "        "
            ],
            "text/plain": [
              "<pyspark.sql.session.SparkSession at 0x7f13382aaa90>"
            ]
          },
          "metadata": {
            "tags": []
          },
          "execution_count": 9
        }
      ]
    },
    {
      "cell_type": "code",
      "metadata": {
        "colab": {
          "base_uri": "https://localhost:8080/"
        },
        "id": "fe3NhhdH1FA2",
        "outputId": "271d83ea-071c-45d9-8b02-7f522e586bcb"
      },
      "source": [
        "from google.colab import drive\n",
        "drive.mount('/content/drive')"
      ],
      "execution_count": null,
      "outputs": [
        {
          "output_type": "stream",
          "text": [
            "Drive already mounted at /content/drive; to attempt to forcibly remount, call drive.mount(\"/content/drive\", force_remount=True).\n"
          ],
          "name": "stdout"
        }
      ]
    },
    {
      "cell_type": "code",
      "metadata": {
        "colab": {
          "base_uri": "https://localhost:8080/"
        },
        "id": "ldtTyAtB1Jin",
        "outputId": "4294550d-a40c-4853-d5c9-ee047ac50020"
      },
      "source": [
        "cd '/content/drive/Shareddrives/Yelp_dataset/restuarant_reviews/by_city/'"
      ],
      "execution_count": null,
      "outputs": [
        {
          "output_type": "stream",
          "text": [
            "/content/drive/Shareddrives/Yelp_dataset/restuarant_reviews/by_city\n"
          ],
          "name": "stdout"
        }
      ]
    },
    {
      "cell_type": "code",
      "metadata": {
        "colab": {
          "base_uri": "https://localhost:8080/"
        },
        "id": "ottebZaiIfAJ",
        "outputId": "2faec43b-b919-4361-900b-31173ffc4298"
      },
      "source": [
        "ls"
      ],
      "execution_count": null,
      "outputs": [
        {
          "output_type": "stream",
          "text": [
            "hashed_reviews_ph.csv                    modelinput_reviews_tr.csv\n",
            "modelinput_phoenix_restaurant_stars.csv  reviews_allcities.csv\n",
            "modelinput_reviews_allcities.csv         reviews_lv.csv\n",
            "modelinput_reviews_lv.csv                reviews_ph.csv\n",
            "modelinput_reviews_ph.csv                reviews_tr.csv\n"
          ],
          "name": "stdout"
        }
      ]
    },
    {
      "cell_type": "code",
      "metadata": {
        "id": "zGK7INpW0_wj"
      },
      "source": [
        "def findALS(path,rank=15,numIterations=15,train_ratio=0.9):\n",
        "\n",
        "  stars = spark.read.csv(path,inferSchema=True, header =True)#.limit(100000)\n",
        "\n",
        "  ratio = [train_ratio,1-train_ratio]\n",
        "  train, test = stars.randomSplit(ratio)\n",
        "\n",
        "  train_rdd = train.rdd.map(lambda x: Rating(int(x[0]), int(x[1]), float(x[2])))\n",
        "  test_rdd = test.rdd.map(lambda p: (p[0],p[1]))\n",
        "\n",
        "  #mlib\n",
        "  model = ALS.train(train_rdd,rank=rank,iterations = numIterations)\n",
        "\n",
        "  preds = model.predictAll(test_rdd).map(lambda r: ((r[0], r[1]), r[2]))\n",
        "\n",
        "  ratesAndPreds = test.rdd.map(lambda r: ((r[0], r[1]), r[2])).join(preds)\n",
        "  MSE = ratesAndPreds.map(lambda r: (r[1][0] - r[1][1])**2).mean() \n",
        "\n",
        "  RMSE = sqrt(MSE)\n",
        "  \n",
        "  return RMSE, model, ratesAndPreds\n"
      ],
      "execution_count": null,
      "outputs": []
    },
    {
      "cell_type": "code",
      "metadata": {
        "id": "O7QJOIS-I96H"
      },
      "source": [
        "dataset =['Toronto','Las Vegas', 'Phoenix', 'All']\n",
        "RMSE_vals = []"
      ],
      "execution_count": null,
      "outputs": []
    },
    {
      "cell_type": "code",
      "metadata": {
        "colab": {
          "base_uri": "https://localhost:8080/"
        },
        "id": "ZyADfMx8Ih1w",
        "outputId": "f695c912-a382-4e3d-b235-8c3c240ae3ed"
      },
      "source": [
        "%%time\n",
        "RMSE, model, preds = findALS('/content/drive/Shareddrives/Yelp_dataset/restuarant_reviews/by_city/modelinput_reviews_tr.csv')\n",
        "RMSE_vals.append(RMSE)\n",
        "print('RMSE:',RMSE)"
      ],
      "execution_count": null,
      "outputs": [
        {
          "output_type": "stream",
          "text": [
            "RMSE: 1.8546740029744102\n",
            "CPU times: user 59 ms, sys: 13.3 ms, total: 72.4 ms\n",
            "Wall time: 29.2 s\n"
          ],
          "name": "stdout"
        }
      ]
    },
    {
      "cell_type": "code",
      "metadata": {
        "colab": {
          "base_uri": "https://localhost:8080/"
        },
        "id": "ef0X3lKIIobh",
        "outputId": "00549c71-9208-4053-859c-b35356ebca4a"
      },
      "source": [
        "%%time\n",
        "RMSE, model, preds =findALS('/content/drive/Shareddrives/Yelp_dataset/restuarant_reviews/by_city/modelinput_reviews_lv.csv')\n",
        "RMSE_vals.append(RMSE)\n",
        "print('RMSE:',RMSE)"
      ],
      "execution_count": null,
      "outputs": [
        {
          "output_type": "stream",
          "text": [
            "RMSE: 2.196246183981309\n",
            "CPU times: user 60.9 ms, sys: 14.9 ms, total: 75.8 ms\n",
            "Wall time: 1min 35s\n"
          ],
          "name": "stdout"
        }
      ]
    },
    {
      "cell_type": "code",
      "metadata": {
        "colab": {
          "base_uri": "https://localhost:8080/"
        },
        "id": "UL13agV2IpCv",
        "outputId": "d505141f-6975-4099-dd0b-8496e8fb7903"
      },
      "source": [
        "%%time\n",
        "RMSE, model, preds =findALS('/content/drive/Shareddrives/Yelp_dataset/restuarant_reviews/by_city/modelinput_reviews_ph.csv')\n",
        "RMSE_vals.append(RMSE)\n",
        "print('RMSE:',RMSE)"
      ],
      "execution_count": null,
      "outputs": [
        {
          "output_type": "stream",
          "text": [
            "RMSE: 2.339859024644972\n",
            "CPU times: user 56 ms, sys: 13.2 ms, total: 69.2 ms\n",
            "Wall time: 35.3 s\n"
          ],
          "name": "stdout"
        }
      ]
    },
    {
      "cell_type": "code",
      "metadata": {
        "colab": {
          "base_uri": "https://localhost:8080/"
        },
        "id": "YpdyUOlGIo4z",
        "outputId": "fd030fc0-ed19-4e2c-a0c9-4f3021cd3f44"
      },
      "source": [
        "%%time\n",
        "RMSE, model, preds =findALS('/content/drive/Shareddrives/Yelp_dataset/restuarant_reviews/by_city/modelinput_reviews_allcities.csv')\n",
        "RMSE_vals.append(RMSE)\n",
        "print('RMSE:',RMSE)"
      ],
      "execution_count": null,
      "outputs": [
        {
          "output_type": "stream",
          "text": [
            "RMSE: 2.137879022154073\n",
            "CPU times: user 94.1 ms, sys: 16.9 ms, total: 111 ms\n",
            "Wall time: 5min 19s\n"
          ],
          "name": "stdout"
        }
      ]
    },
    {
      "cell_type": "code",
      "metadata": {
        "colab": {
          "base_uri": "https://localhost:8080/"
        },
        "id": "WWrGb0D7J7QC",
        "outputId": "eb12916f-0b70-44c0-dcbc-2c5ac0b3a4ac"
      },
      "source": [
        "plt.figure(figsize=(10,10))\n",
        "#plt.bar(dataset, RMSE_vals)\n",
        "sns.set(style=\"whitegrid\")\n",
        "sns.barplot(dataset,RMSE_vals)\n",
        "plt.xticks(rotation=90, fontsize=20)\n",
        "plt.yticks(fontsize=20)\n",
        "plt.title('Spark ALS performance (RMSE error) on various data subsets ', fontsize=20)\n",
        "plt.xlabel('Cities',fontsize=20)\n",
        "plt.ylabel('RMSE',fontsize=20)\n",
        "plt.tight_layout()"
      ],
      "execution_count": null,
      "outputs": [
        {
          "output_type": "stream",
          "text": [
            "/usr/local/lib/python3.6/dist-packages/seaborn/_decorators.py:43: FutureWarning: Pass the following variables as keyword args: x, y. From version 0.12, the only valid positional argument will be `data`, and passing other arguments without an explicit keyword will result in an error or misinterpretation.\n",
            "  FutureWarning\n"
          ],
          "name": "stderr"
        },
        {
          "output_type": "display_data",
          "data": {
            "image/png": "[encoded data removed]",
            "text/plain": [
              "<Figure size 720x720 with 1 Axes>"
            ]
          },
          "metadata": {
            "tags": []
          }
        }
      ]
    },
    {
      "cell_type": "code",
      "metadata": {
        "colab": {
          "base_uri": "https://localhost:8080/"
        },
        "id": "XYbrhHC7WUyo",
        "outputId": "6d8da8d8-bcc4-4cac-f507-7d06e3234ce7"
      },
      "source": [
        "preds"
      ],
      "execution_count": null,
      "outputs": [
        {
          "output_type": "execute_result",
          "data": {
            "text/plain": [
              "PythonRDD[6349] at RDD at PythonRDD.scala:53"
            ]
          },
          "metadata": {
            "tags": []
          },
          "execution_count": 100
        }
      ]
    },
    {
      "cell_type": "code",
      "metadata": {
        "colab": {
          "base_uri": "https://localhost:8080/"
        },
        "id": "cavyGUOQWW3b",
        "outputId": "e749ad12-0214-4746-e631-0b6c599b896e"
      },
      "source": [
        "%%time\n",
        "preds_df = preds.toDF()"
      ],
      "execution_count": null,
      "outputs": [
        {
          "output_type": "stream",
          "text": [
            "CPU times: user 19.7 ms, sys: 2.51 ms, total: 22.2 ms\n",
            "Wall time: 897 ms\n"
          ],
          "name": "stdout"
        }
      ]
    },
    {
      "cell_type": "code",
      "metadata": {
        "colab": {
          "base_uri": "https://localhost:8080/"
        },
        "id": "kPe27Kc7YNyM",
        "outputId": "85c5a335-0211-4d28-df3a-8292e7478e5a"
      },
      "source": [
        "preds_df.show()"
      ],
      "execution_count": null,
      "outputs": [
        {
          "output_type": "stream",
          "text": [
            "+------------+--------------------+\n",
            "|          _1|                  _2|\n",
            "+------------+--------------------+\n",
            "|  [0, 32626]|[1, 1.01429689595...|\n",
            "| [22, 41580]|[4, 4.18271528669...|\n",
            "| [65, 25253]|[5, 2.34801152103...|\n",
            "|  [73, 7117]|[5, 3.25156513481...|\n",
            "|  [89, 7533]|[5, 1.00721885584...|\n",
            "|[138, 13556]|[1, 5.02461707124...|\n",
            "|[138, 27576]|[4, 3.11045259270...|\n",
            "|  [155, 623]|[2, 2.86096097138...|\n",
            "|[155, 21115]|[3, 2.52258194424...|\n",
            "|[155, 22651]|[3, 1.91052947523...|\n",
            "|[160, 63406]|[1, 2.90317647915...|\n",
            "|[174, 34208]|[3, 1.24899217011...|\n",
            "|[200, 11594]|[5, 4.42650788442...|\n",
            "|[261, 32281]|[4, 3.65124682133...|\n",
            "|[285, 30209]|[5, 2.75680314735...|\n",
            "|[364, 34522]|[4, 1.33168646672...|\n",
            "|[405, 31737]|[5, 4.79951860199...|\n",
            "|[520, 32998]|[4, 4.11005172732...|\n",
            "|[525, 33413]|[5, 1.36583608909...|\n",
            "|[557, 37941]|[4, 2.56000603347...|\n",
            "+------------+--------------------+\n",
            "only showing top 20 rows\n",
            "\n"
          ],
          "name": "stdout"
        }
      ]
    },
    {
      "cell_type": "code",
      "metadata": {
        "id": "gzoqi5VOW3pY"
      },
      "source": [
        "preds_df = preds_df.withColumnRenamed(\"_1\", \"(user,business)combinations\")\\\n",
        "       .withColumnRenamed(\"_2\", \"predicted_ratings\")"
      ],
      "execution_count": null,
      "outputs": []
    },
    {
      "cell_type": "code",
      "metadata": {
        "colab": {
          "base_uri": "https://localhost:8080/"
        },
        "id": "AF9d9BZnXUFy",
        "outputId": "1025acc3-928e-4965-a375-25b995ab8183"
      },
      "source": [
        "preds_df.sort(\"(user,business)combinations\")"
      ],
      "execution_count": null,
      "outputs": [
        {
          "output_type": "execute_result",
          "data": {
            "text/plain": [
              "DataFrame[(user,business)combinations: struct<_1:bigint,_2:bigint>, predicted_ratings: double]"
            ]
          },
          "metadata": {
            "tags": []
          },
          "execution_count": 91
        }
      ]
    },
    {
      "cell_type": "code",
      "metadata": {
        "colab": {
          "base_uri": "https://localhost:8080/"
        },
        "id": "FizAK0RgWb3p",
        "outputId": "4ebadd25-1c4c-4726-a49c-2d320936c58d"
      },
      "source": [
        "preds_df.show()"
      ],
      "execution_count": null,
      "outputs": [
        {
          "output_type": "stream",
          "text": [
            "+---------------------------+--------------------+\n",
            "|(user,business)combinations|   predicted_ratings|\n",
            "+---------------------------+--------------------+\n",
            "|             [1339720, 730]|  3.6308952691851992|\n",
            "|             [38926, 22730]|   3.611104046733243|\n",
            "|             [38926, 18189]|   4.426377511166564|\n",
            "|             [38926, 47717]|  3.4630601820484723|\n",
            "|           [1247824, 27842]|  0.7874708154947845|\n",
            "|           [1373598, 30906]|0.010776420195698612|\n",
            "|            [333678, 16136]|  1.5755027204845797|\n",
            "|             [333678, 2066]|  0.6870315894350281|\n",
            "|            [806480, 40084]|   2.210130458835182|\n",
            "|             [409494, 7454]|  1.2501406344427586|\n",
            "|            [409494, 61707]|  1.7572291504259272|\n",
            "|            [452974, 38888]|   2.706965070799096|\n",
            "|            [282554, 46475]|   3.877988168394535|\n",
            "|           [1309222, 57174]|   1.758008207295709|\n",
            "|           [1209850, 49844]|   5.838054770981977|\n",
            "|           [1209850, 35606]|  3.1266886749934955|\n",
            "|           [1380892, 39829]|  2.1537895267497253|\n",
            "|            [196224, 23986]|  2.0051696816110605|\n",
            "|            [644196, 42596]|  2.4946079770675498|\n",
            "|            [656122, 15596]| -0.2347876864561078|\n",
            "+---------------------------+--------------------+\n",
            "only showing top 20 rows\n",
            "\n"
          ],
          "name": "stdout"
        }
      ]
    }
  ]
}