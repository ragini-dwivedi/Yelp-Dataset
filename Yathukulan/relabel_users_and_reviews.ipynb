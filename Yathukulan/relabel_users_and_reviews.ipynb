{
  "nbformat": 4,
  "nbformat_minor": 0,
  "metadata": {
    "colab": {
      "name": "relabel_users_and_reviews.ipynb",
      "provenance": [],
      "collapsed_sections": [],
      "toc_visible": true,
      "authorship_tag": "ABX9TyMUAKUgEd3ttQbM++jyfXi8",
      "include_colab_link": true
    },
    "kernelspec": {
      "name": "python3",
      "display_name": "Python 3"
    }
  },
  "cells": [
    {
      "cell_type": "markdown",
      "metadata": {
        "id": "view-in-github",
        "colab_type": "text"
      },
      "source": [
        "<a href=\"https://colab.research.google.com/github/ragini-dwivedi/Yelp-Dataset/blob/main/Yathukulan/relabel_users_and_reviews.ipynb\" target=\"_parent\"><img src=\"https://colab.research.google.com/assets/colab-badge.svg\" alt=\"Open In Colab\"/></a>"
      ]
    },
    {
      "cell_type": "code",
      "metadata": {
        "id": "SuGPFt0fZgEB"
      },
      "source": [
        "import pandas as pd\n",
        "import numpy as np\n",
        "import csv\n",
        "import os\n",
        "\n",
        "from sklearn.preprocessing import LabelEncoder"
      ],
      "execution_count": null,
      "outputs": []
    },
    {
      "cell_type": "code",
      "metadata": {
        "colab": {
          "base_uri": "https://localhost:8080/"
        },
        "id": "Gdf8hMdVZr3z",
        "outputId": "195fb2c0-c37b-4343-f143-85777955ec0f"
      },
      "source": [
        "from google.colab import drive\n",
        "drive.mount('/content/drive')"
      ],
      "execution_count": null,
      "outputs": [
        {
          "output_type": "stream",
          "text": [
            "Mounted at /content/drive\n"
          ],
          "name": "stdout"
        }
      ]
    },
    {
      "cell_type": "code",
      "metadata": {
        "colab": {
          "base_uri": "https://localhost:8080/"
        },
        "id": "NN_JVbPMZyc6",
        "outputId": "ad03fc85-3a91-433a-ef27-7ef2d88212d2"
      },
      "source": [
        "cd '/content/drive/Shareddrives/Yelp_dataset/restuarant_reviews/by_city/'"
      ],
      "execution_count": null,
      "outputs": [
        {
          "output_type": "stream",
          "text": [
            "/content/drive/Shareddrives/Yelp_dataset/restuarant_reviews/by_city\n"
          ],
          "name": "stdout"
        }
      ]
    },
    {
      "cell_type": "code",
      "metadata": {
        "colab": {
          "base_uri": "https://localhost:8080/"
        },
        "id": "oJuXjdf5Z7h8",
        "outputId": "1ce943b8-ab53-4a85-9512-44bcb5810433"
      },
      "source": [
        "ls"
      ],
      "execution_count": null,
      "outputs": [
        {
          "output_type": "stream",
          "text": [
            "hashed_reviews_ph.csv                    reviews_allcities.csv  reviews_tr.csv\n",
            "modelinput_phoenix_restaurant_stars.csv  reviews_lv.csv\n",
            "modelinput_reviews_lv.csv                reviews_ph.csv\n"
          ],
          "name": "stdout"
        }
      ]
    },
    {
      "cell_type": "code",
      "metadata": {
        "colab": {
          "base_uri": "https://localhost:8080/"
        },
        "id": "TL0DBCA5Fmvz",
        "outputId": "fb07f2f0-556b-437d-916d-fb3905d04bbb"
      },
      "source": [
        "#os.path.split('/content/drive/Shareddrives/Yelp_dataset/restuarant_reviews/by_city/reviews_ph.csv')"
      ],
      "execution_count": null,
      "outputs": [
        {
          "output_type": "execute_result",
          "data": {
            "text/plain": [
              "('/content/drive/Shareddrives/Yelp_dataset/restuarant_reviews/by_city',\n",
              " 'reviews_ph.csv')"
            ]
          },
          "metadata": {
            "tags": []
          },
          "execution_count": 25
        }
      ]
    },
    {
      "cell_type": "code",
      "metadata": {
        "id": "-T-xNTNYEDKt"
      },
      "source": [
        "#encodes labels and saves them in the same destination\n",
        "def encode_labels(filepath):\n",
        "\n",
        "  df = pd.read_csv(filepath)\n",
        "  df.drop(columns='review_id',inplace=True)\n",
        "\n",
        "  encoder_1 = LabelEncoder()\n",
        "  encoder_2 = LabelEncoder()\n",
        "\n",
        "  df['user_id'] = encoder_1.fit_transform(df['user_id'].values)\n",
        "  df['business_id'] = encoder_2.fit_transform(df['business_id'].values)\n",
        "\n",
        "  directory, filename = os.path.split(filepath)\n",
        "  savepath = directory + '/modelinput_' + filename\n",
        "  df.to_csv(savepath,index=False)\n",
        "\n",
        "  print(filename,'saved at',directory)\n"
      ],
      "execution_count": null,
      "outputs": []
    },
    {
      "cell_type": "code",
      "metadata": {
        "colab": {
          "base_uri": "https://localhost:8080/"
        },
        "id": "nILV1d6XGLnV",
        "outputId": "e592e8b7-c446-4941-9151-b453ba1d2bd9"
      },
      "source": [
        "%%time\n",
        "encode_labels('/content/drive/Shareddrives/Yelp_dataset/restuarant_reviews/by_city/reviews_tr.csv')\n",
        "encode_labels('/content/drive/Shareddrives/Yelp_dataset/restuarant_reviews/by_city/reviews_lv.csv')\n",
        "encode_labels('/content/drive/Shareddrives/Yelp_dataset/restuarant_reviews/by_city/reviews_ph.csv')\n",
        "encode_labels('/content/drive/Shareddrives/Yelp_dataset/restuarant_reviews/by_city/reviews_allcities.csv')"
      ],
      "execution_count": null,
      "outputs": [
        {
          "output_type": "stream",
          "text": [
            "reviews_tr.csv saved at /content/drive/Shareddrives/Yelp_dataset/restuarant_reviews/by_city\n",
            "reviews_lv.csv saved at /content/drive/Shareddrives/Yelp_dataset/restuarant_reviews/by_city\n",
            "reviews_ph.csv saved at /content/drive/Shareddrives/Yelp_dataset/restuarant_reviews/by_city\n",
            "reviews_allcities.csv saved at /content/drive/Shareddrives/Yelp_dataset/restuarant_reviews/by_city\n",
            "CPU times: user 38.5 s, sys: 2.42 s, total: 40.9 s\n",
            "Wall time: 45.4 s\n"
          ],
          "name": "stdout"
        }
      ]
    },
    {
      "cell_type": "code",
      "metadata": {
        "colab": {
          "base_uri": "https://localhost:8080/"
        },
        "id": "8wGxVvQsGUnY",
        "outputId": "7e5f7bca-df5c-4942-81d2-54fc9ca5e1bc"
      },
      "source": [
        "ls"
      ],
      "execution_count": null,
      "outputs": [
        {
          "output_type": "stream",
          "text": [
            "hashed_reviews_ph.csv                    modelinput_reviews_tr.csv\n",
            "modelinput_phoenix_restaurant_stars.csv  reviews_allcities.csv\n",
            "modelinput_reviews_allcities.csv         reviews_lv.csv\n",
            "modelinput_reviews_lv.csv                reviews_ph.csv\n",
            "modelinput_reviews_ph.csv                reviews_tr.csv\n"
          ],
          "name": "stdout"
        }
      ]
    },
    {
      "cell_type": "code",
      "metadata": {
        "colab": {
          "base_uri": "https://localhost:8080/",
          "height": 402
        },
        "id": "UJ1X2JJNGcuG",
        "outputId": "3976c810-dc94-48fe-80d4-ce5549d68be2"
      },
      "source": [
        "testload = pd.read_csv('modelinput_reviews_lv.csv')\n",
        "testload"
      ],
      "execution_count": null,
      "outputs": [
        {
          "output_type": "execute_result",
          "data": {
            "text/html": [
              "<div>\n",
              "<style scoped>\n",
              "    .dataframe tbody tr th:only-of-type {\n",
              "        vertical-align: middle;\n",
              "    }\n",
              "\n",
              "    .dataframe tbody tr th {\n",
              "        vertical-align: top;\n",
              "    }\n",
              "\n",
              "    .dataframe thead th {\n",
              "        text-align: right;\n",
              "    }\n",
              "</style>\n",
              "<table border=\"1\" class=\"dataframe\">\n",
              "  <thead>\n",
              "    <tr style=\"text-align: right;\">\n",
              "      <th></th>\n",
              "      <th>user_id</th>\n",
              "      <th>business_id</th>\n",
              "      <th>stars</th>\n",
              "    </tr>\n",
              "  </thead>\n",
              "  <tbody>\n",
              "    <tr>\n",
              "      <th>0</th>\n",
              "      <td>441468</td>\n",
              "      <td>656</td>\n",
              "      <td>1</td>\n",
              "    </tr>\n",
              "    <tr>\n",
              "      <th>1</th>\n",
              "      <td>30979</td>\n",
              "      <td>4455</td>\n",
              "      <td>1</td>\n",
              "    </tr>\n",
              "    <tr>\n",
              "      <th>2</th>\n",
              "      <td>238639</td>\n",
              "      <td>4455</td>\n",
              "      <td>5</td>\n",
              "    </tr>\n",
              "    <tr>\n",
              "      <th>3</th>\n",
              "      <td>1879</td>\n",
              "      <td>3776</td>\n",
              "      <td>4</td>\n",
              "    </tr>\n",
              "    <tr>\n",
              "      <th>4</th>\n",
              "      <td>177039</td>\n",
              "      <td>2846</td>\n",
              "      <td>4</td>\n",
              "    </tr>\n",
              "    <tr>\n",
              "      <th>...</th>\n",
              "      <td>...</td>\n",
              "      <td>...</td>\n",
              "      <td>...</td>\n",
              "    </tr>\n",
              "    <tr>\n",
              "      <th>1503938</th>\n",
              "      <td>24984</td>\n",
              "      <td>1121</td>\n",
              "      <td>5</td>\n",
              "    </tr>\n",
              "    <tr>\n",
              "      <th>1503939</th>\n",
              "      <td>74182</td>\n",
              "      <td>1215</td>\n",
              "      <td>1</td>\n",
              "    </tr>\n",
              "    <tr>\n",
              "      <th>1503940</th>\n",
              "      <td>25740</td>\n",
              "      <td>4586</td>\n",
              "      <td>4</td>\n",
              "    </tr>\n",
              "    <tr>\n",
              "      <th>1503941</th>\n",
              "      <td>329568</td>\n",
              "      <td>1961</td>\n",
              "      <td>5</td>\n",
              "    </tr>\n",
              "    <tr>\n",
              "      <th>1503942</th>\n",
              "      <td>248737</td>\n",
              "      <td>5230</td>\n",
              "      <td>5</td>\n",
              "    </tr>\n",
              "  </tbody>\n",
              "</table>\n",
              "<p>1503943 rows × 3 columns</p>\n",
              "</div>"
            ],
            "text/plain": [
              "         user_id  business_id  stars\n",
              "0         441468          656      1\n",
              "1          30979         4455      1\n",
              "2         238639         4455      5\n",
              "3           1879         3776      4\n",
              "4         177039         2846      4\n",
              "...          ...          ...    ...\n",
              "1503938    24984         1121      5\n",
              "1503939    74182         1215      1\n",
              "1503940    25740         4586      4\n",
              "1503941   329568         1961      5\n",
              "1503942   248737         5230      5\n",
              "\n",
              "[1503943 rows x 3 columns]"
            ]
          },
          "metadata": {
            "tags": []
          },
          "execution_count": 44
        }
      ]
    },
    {
      "cell_type": "code",
      "metadata": {
        "colab": {
          "base_uri": "https://localhost:8080/",
          "height": 402
        },
        "id": "ELyfkeZ1abuO",
        "outputId": "58601244-2852-46c0-f708-9dcf07bac39a"
      },
      "source": [
        "testload2 = pd.read_csv('reviews_lv.csv')\n",
        "testload2"
      ],
      "execution_count": null,
      "outputs": [
        {
          "output_type": "execute_result",
          "data": {
            "text/html": [
              "<div>\n",
              "<style scoped>\n",
              "    .dataframe tbody tr th:only-of-type {\n",
              "        vertical-align: middle;\n",
              "    }\n",
              "\n",
              "    .dataframe tbody tr th {\n",
              "        vertical-align: top;\n",
              "    }\n",
              "\n",
              "    .dataframe thead th {\n",
              "        text-align: right;\n",
              "    }\n",
              "</style>\n",
              "<table border=\"1\" class=\"dataframe\">\n",
              "  <thead>\n",
              "    <tr style=\"text-align: right;\">\n",
              "      <th></th>\n",
              "      <th>review_id</th>\n",
              "      <th>user_id</th>\n",
              "      <th>business_id</th>\n",
              "      <th>stars</th>\n",
              "    </tr>\n",
              "  </thead>\n",
              "  <tbody>\n",
              "    <tr>\n",
              "      <th>0</th>\n",
              "      <td>i6g_oA9Yf9Y31qt0wibXpw</td>\n",
              "      <td>ofKDkJKXSKZXu5xJNGiiBQ</td>\n",
              "      <td>5JxlZaqCnk1MnbgRirs40Q</td>\n",
              "      <td>1</td>\n",
              "    </tr>\n",
              "    <tr>\n",
              "      <th>1</th>\n",
              "      <td>bVTjZgRNq8ToxzvtiVrqMA</td>\n",
              "      <td>2hRe26HSCAWbFRn5WChK-Q</td>\n",
              "      <td>d4qwVw4PcN-_2mK2o1Ro1g</td>\n",
              "      <td>1</td>\n",
              "    </tr>\n",
              "    <tr>\n",
              "      <th>2</th>\n",
              "      <td>TeX0eOIeZb_wpo86rCedXQ</td>\n",
              "      <td>RR-2nouBn408e3djxC470g</td>\n",
              "      <td>d4qwVw4PcN-_2mK2o1Ro1g</td>\n",
              "      <td>5</td>\n",
              "    </tr>\n",
              "    <tr>\n",
              "      <th>3</th>\n",
              "      <td>XvLG7ReC8JZmBltOLJzfcA</td>\n",
              "      <td>-Co-ReNx_lXT1xL_Rr0B2g</td>\n",
              "      <td>XZbuPXdyA0ZtTu3AzqtQhg</td>\n",
              "      <td>4</td>\n",
              "    </tr>\n",
              "    <tr>\n",
              "      <th>4</th>\n",
              "      <td>WGbtqQMeJwTVg6DFb156EQ</td>\n",
              "      <td>K5MSNpwRf0xKQSaC6gK9Cw</td>\n",
              "      <td>PL3cimEUfNHlenOGSOAdJg</td>\n",
              "      <td>4</td>\n",
              "    </tr>\n",
              "    <tr>\n",
              "      <th>...</th>\n",
              "      <td>...</td>\n",
              "      <td>...</td>\n",
              "      <td>...</td>\n",
              "      <td>...</td>\n",
              "    </tr>\n",
              "    <tr>\n",
              "      <th>1503938</th>\n",
              "      <td>bifI5vnJ_LT0eAMD_O3cbw</td>\n",
              "      <td>1z0yKHr5KBlfJqm6O11V4g</td>\n",
              "      <td>9fUCrtgpHsC14bp8-uhfmQ</td>\n",
              "      <td>5</td>\n",
              "    </tr>\n",
              "    <tr>\n",
              "      <th>1503939</th>\n",
              "      <td>T34JvlaKD1qcQARVOOHm4w</td>\n",
              "      <td>7puz3FPymI83yvk1_J7ilQ</td>\n",
              "      <td>AUOlDSQ8R2wIkN4lQ4kVDg</td>\n",
              "      <td>1</td>\n",
              "    </tr>\n",
              "    <tr>\n",
              "      <th>1503940</th>\n",
              "      <td>SkiPC10TBymnU-y8ScdQ_w</td>\n",
              "      <td>23cjtl3AWJtxKL3O78-Djw</td>\n",
              "      <td>e6ls6aHFa75xKEZUQUu1QQ</td>\n",
              "      <td>4</td>\n",
              "    </tr>\n",
              "    <tr>\n",
              "      <th>1503941</th>\n",
              "      <td>cPX3OKqbv3-9ZYZTp_UKyA</td>\n",
              "      <td>bH3Uc0YNlnKubj8cT4nQ0w</td>\n",
              "      <td>H8qpFitIesth86zqR4cwYg</td>\n",
              "      <td>5</td>\n",
              "    </tr>\n",
              "    <tr>\n",
              "      <th>1503942</th>\n",
              "      <td>EcY_p50zPIQ2R6rf6-5CjA</td>\n",
              "      <td>Scmyz7MK4TbXXYcaLZxIxQ</td>\n",
              "      <td>kDCyqlYcstqnoqnfBRS5Og</td>\n",
              "      <td>5</td>\n",
              "    </tr>\n",
              "  </tbody>\n",
              "</table>\n",
              "<p>1503943 rows × 4 columns</p>\n",
              "</div>"
            ],
            "text/plain": [
              "                      review_id  ... stars\n",
              "0        i6g_oA9Yf9Y31qt0wibXpw  ...     1\n",
              "1        bVTjZgRNq8ToxzvtiVrqMA  ...     1\n",
              "2        TeX0eOIeZb_wpo86rCedXQ  ...     5\n",
              "3        XvLG7ReC8JZmBltOLJzfcA  ...     4\n",
              "4        WGbtqQMeJwTVg6DFb156EQ  ...     4\n",
              "...                         ...  ...   ...\n",
              "1503938  bifI5vnJ_LT0eAMD_O3cbw  ...     5\n",
              "1503939  T34JvlaKD1qcQARVOOHm4w  ...     1\n",
              "1503940  SkiPC10TBymnU-y8ScdQ_w  ...     4\n",
              "1503941  cPX3OKqbv3-9ZYZTp_UKyA  ...     5\n",
              "1503942  EcY_p50zPIQ2R6rf6-5CjA  ...     5\n",
              "\n",
              "[1503943 rows x 4 columns]"
            ]
          },
          "metadata": {
            "tags": []
          },
          "execution_count": 51
        }
      ]
    },
    {
      "cell_type": "code",
      "metadata": {
        "id": "G40d7si70arc"
      },
      "source": [
        ""
      ],
      "execution_count": null,
      "outputs": []
    }
  ]
}